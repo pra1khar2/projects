{
 "cells": [
  {
   "cell_type": "markdown",
   "id": "6b125fd1",
   "metadata": {
    "papermill": {
     "duration": 0.02953,
     "end_time": "2022-10-24T12:26:00.307098",
     "exception": false,
     "start_time": "2022-10-24T12:26:00.277568",
     "status": "completed"
    },
    "tags": []
   },
   "source": [
    "# DRESS DATASET"
   ]
  },
  {
   "cell_type": "code",
   "execution_count": 1,
   "id": "e9d1e31b",
   "metadata": {
    "execution": {
     "iopub.execute_input": "2022-10-24T12:26:00.365394Z",
     "iopub.status.busy": "2022-10-24T12:26:00.364287Z",
     "iopub.status.idle": "2022-10-24T12:26:01.655758Z",
     "shell.execute_reply": "2022-10-24T12:26:01.654463Z"
    },
    "papermill": {
     "duration": 1.320709,
     "end_time": "2022-10-24T12:26:01.658926",
     "exception": false,
     "start_time": "2022-10-24T12:26:00.338217",
     "status": "completed"
    },
    "tags": []
   },
   "outputs": [],
   "source": [
    "#Import the required Libraries.\n",
    "import numpy as np\n",
    "import pandas as pd\n",
    "import matplotlib.pyplot as plt\n",
    "import seaborn as sns"
   ]
  },
  {
   "cell_type": "markdown",
   "id": "e5b2bca2",
   "metadata": {
    "papermill": {
     "duration": 0.019285,
     "end_time": "2022-10-24T12:26:01.698599",
     "exception": false,
     "start_time": "2022-10-24T12:26:01.679314",
     "status": "completed"
    },
    "tags": []
   },
   "source": [
    "# Data Cleaning \n",
    "\n",
    "### Data Reading & Data Types "
   ]
  },
  {
   "cell_type": "code",
   "execution_count": 2,
   "id": "e238eaf9",
   "metadata": {
    "execution": {
     "iopub.execute_input": "2022-10-24T12:26:01.740222Z",
     "iopub.status.busy": "2022-10-24T12:26:01.739773Z",
     "iopub.status.idle": "2022-10-24T12:26:01.785562Z",
     "shell.execute_reply": "2022-10-24T12:26:01.784703Z"
    },
    "papermill": {
     "duration": 0.069606,
     "end_time": "2022-10-24T12:26:01.788190",
     "exception": false,
     "start_time": "2022-10-24T12:26:01.718584",
     "status": "completed"
    },
    "tags": []
   },
   "outputs": [],
   "source": [
    "data0 = pd.read_csv(\"../downloads/dress-attribute-sales-dataset/Attribute dataset.csv\")\n",
    "data1 = pd.read_csv(\"../downloads/dress-attribute-sales-dataset/DressSales.csv\")"
   ]
  },
  {
   "cell_type": "code",
   "execution_count": 3,
   "id": "e36d865e",
   "metadata": {
    "execution": {
     "iopub.execute_input": "2022-10-24T12:26:01.830542Z",
     "iopub.status.busy": "2022-10-24T12:26:01.829360Z",
     "iopub.status.idle": "2022-10-24T12:26:01.858461Z",
     "shell.execute_reply": "2022-10-24T12:26:01.857140Z"
    },
    "papermill": {
     "duration": 0.053188,
     "end_time": "2022-10-24T12:26:01.861333",
     "exception": false,
     "start_time": "2022-10-24T12:26:01.808145",
     "status": "completed"
    },
    "tags": []
   },
   "outputs": [
    {
     "data": {
      "text/html": [
       "<div>\n",
       "<style scoped>\n",
       "    .dataframe tbody tr th:only-of-type {\n",
       "        vertical-align: middle;\n",
       "    }\n",
       "\n",
       "    .dataframe tbody tr th {\n",
       "        vertical-align: top;\n",
       "    }\n",
       "\n",
       "    .dataframe thead th {\n",
       "        text-align: right;\n",
       "    }\n",
       "</style>\n",
       "<table border=\"1\" class=\"dataframe\">\n",
       "  <thead>\n",
       "    <tr style=\"text-align: right;\">\n",
       "      <th></th>\n",
       "      <th>Dress_ID</th>\n",
       "      <th>Style</th>\n",
       "      <th>Price</th>\n",
       "      <th>Rating</th>\n",
       "      <th>Size</th>\n",
       "      <th>Season</th>\n",
       "      <th>NeckLine</th>\n",
       "      <th>SleeveLength</th>\n",
       "      <th>Material</th>\n",
       "      <th>FabricType</th>\n",
       "      <th>Decoration</th>\n",
       "      <th>Pattern Type</th>\n",
       "      <th>Recommendation</th>\n",
       "    </tr>\n",
       "  </thead>\n",
       "  <tbody>\n",
       "    <tr>\n",
       "      <th>0</th>\n",
       "      <td>1006032852</td>\n",
       "      <td>Sexy</td>\n",
       "      <td>Low</td>\n",
       "      <td>4.6</td>\n",
       "      <td>M</td>\n",
       "      <td>Summer</td>\n",
       "      <td>o-neck</td>\n",
       "      <td>sleevless</td>\n",
       "      <td>NaN</td>\n",
       "      <td>chiffon</td>\n",
       "      <td>ruffles</td>\n",
       "      <td>animal</td>\n",
       "      <td>1</td>\n",
       "    </tr>\n",
       "    <tr>\n",
       "      <th>1</th>\n",
       "      <td>1212192089</td>\n",
       "      <td>Casual</td>\n",
       "      <td>Low</td>\n",
       "      <td>0.0</td>\n",
       "      <td>L</td>\n",
       "      <td>Summer</td>\n",
       "      <td>o-neck</td>\n",
       "      <td>Petal</td>\n",
       "      <td>microfiber</td>\n",
       "      <td>NaN</td>\n",
       "      <td>ruffles</td>\n",
       "      <td>animal</td>\n",
       "      <td>0</td>\n",
       "    </tr>\n",
       "    <tr>\n",
       "      <th>2</th>\n",
       "      <td>1190380701</td>\n",
       "      <td>vintage</td>\n",
       "      <td>High</td>\n",
       "      <td>0.0</td>\n",
       "      <td>L</td>\n",
       "      <td>Automn</td>\n",
       "      <td>o-neck</td>\n",
       "      <td>full</td>\n",
       "      <td>polyster</td>\n",
       "      <td>NaN</td>\n",
       "      <td>NaN</td>\n",
       "      <td>print</td>\n",
       "      <td>0</td>\n",
       "    </tr>\n",
       "    <tr>\n",
       "      <th>3</th>\n",
       "      <td>966005983</td>\n",
       "      <td>Brief</td>\n",
       "      <td>Average</td>\n",
       "      <td>4.6</td>\n",
       "      <td>L</td>\n",
       "      <td>Spring</td>\n",
       "      <td>o-neck</td>\n",
       "      <td>full</td>\n",
       "      <td>silk</td>\n",
       "      <td>chiffon</td>\n",
       "      <td>embroidary</td>\n",
       "      <td>print</td>\n",
       "      <td>1</td>\n",
       "    </tr>\n",
       "    <tr>\n",
       "      <th>4</th>\n",
       "      <td>876339541</td>\n",
       "      <td>cute</td>\n",
       "      <td>Low</td>\n",
       "      <td>4.5</td>\n",
       "      <td>M</td>\n",
       "      <td>Summer</td>\n",
       "      <td>o-neck</td>\n",
       "      <td>butterfly</td>\n",
       "      <td>chiffonfabric</td>\n",
       "      <td>chiffon</td>\n",
       "      <td>bow</td>\n",
       "      <td>dot</td>\n",
       "      <td>0</td>\n",
       "    </tr>\n",
       "  </tbody>\n",
       "</table>\n",
       "</div>"
      ],
      "text/plain": [
       "     Dress_ID    Style    Price  Rating Size  Season NeckLine SleeveLength  \\\n",
       "0  1006032852     Sexy      Low     4.6    M  Summer   o-neck    sleevless   \n",
       "1  1212192089   Casual      Low     0.0    L  Summer   o-neck        Petal   \n",
       "2  1190380701  vintage     High     0.0    L  Automn   o-neck         full   \n",
       "3   966005983    Brief  Average     4.6    L  Spring   o-neck         full   \n",
       "4   876339541     cute      Low     4.5    M  Summer   o-neck    butterfly   \n",
       "\n",
       "        Material FabricType  Decoration Pattern Type  Recommendation  \n",
       "0            NaN    chiffon     ruffles       animal               1  \n",
       "1     microfiber        NaN     ruffles       animal               0  \n",
       "2       polyster        NaN         NaN        print               0  \n",
       "3           silk    chiffon  embroidary        print               1  \n",
       "4  chiffonfabric    chiffon         bow          dot               0  "
      ]
     },
     "execution_count": 3,
     "metadata": {},
     "output_type": "execute_result"
    }
   ],
   "source": [
    "data0.head()"
   ]
  },
  {
   "cell_type": "code",
   "execution_count": 4,
   "id": "84574160",
   "metadata": {
    "execution": {
     "iopub.execute_input": "2022-10-24T12:26:01.904046Z",
     "iopub.status.busy": "2022-10-24T12:26:01.903223Z",
     "iopub.status.idle": "2022-10-24T12:26:01.932688Z",
     "shell.execute_reply": "2022-10-24T12:26:01.930891Z"
    },
    "papermill": {
     "duration": 0.054102,
     "end_time": "2022-10-24T12:26:01.935514",
     "exception": false,
     "start_time": "2022-10-24T12:26:01.881412",
     "status": "completed"
    },
    "tags": []
   },
   "outputs": [
    {
     "data": {
      "text/html": [
       "<div>\n",
       "<style scoped>\n",
       "    .dataframe tbody tr th:only-of-type {\n",
       "        vertical-align: middle;\n",
       "    }\n",
       "\n",
       "    .dataframe tbody tr th {\n",
       "        vertical-align: top;\n",
       "    }\n",
       "\n",
       "    .dataframe thead th {\n",
       "        text-align: right;\n",
       "    }\n",
       "</style>\n",
       "<table border=\"1\" class=\"dataframe\">\n",
       "  <thead>\n",
       "    <tr style=\"text-align: right;\">\n",
       "      <th></th>\n",
       "      <th>Dress_ID</th>\n",
       "      <th>29-08-2013</th>\n",
       "      <th>31-08-2013</th>\n",
       "      <th>09-02-2013</th>\n",
       "      <th>09-04-2013</th>\n",
       "      <th>09-06-2013</th>\n",
       "      <th>09-08-2013</th>\n",
       "      <th>09-10-2013</th>\n",
       "      <th>09-12-2013</th>\n",
       "      <th>14-09-2013</th>\n",
       "      <th>...</th>\n",
       "      <th>24-09-2013</th>\n",
       "      <th>26-09-2013</th>\n",
       "      <th>28-09-2013</th>\n",
       "      <th>30-09-2013</th>\n",
       "      <th>10-02-2013</th>\n",
       "      <th>10-04-2013</th>\n",
       "      <th>10-06-2013</th>\n",
       "      <th>10-08-2013</th>\n",
       "      <th>10-10-2013</th>\n",
       "      <th>10-12-2013</th>\n",
       "    </tr>\n",
       "  </thead>\n",
       "  <tbody>\n",
       "    <tr>\n",
       "      <th>0</th>\n",
       "      <td>1006032852</td>\n",
       "      <td>2114</td>\n",
       "      <td>2274</td>\n",
       "      <td>2491</td>\n",
       "      <td>2660</td>\n",
       "      <td>2727</td>\n",
       "      <td>2887</td>\n",
       "      <td>2930</td>\n",
       "      <td>3119</td>\n",
       "      <td>3204</td>\n",
       "      <td>...</td>\n",
       "      <td>3554</td>\n",
       "      <td>3624.0</td>\n",
       "      <td>3706</td>\n",
       "      <td>3746.0</td>\n",
       "      <td>3795.0</td>\n",
       "      <td>3832.0</td>\n",
       "      <td>3897</td>\n",
       "      <td>3923.0</td>\n",
       "      <td>3985.0</td>\n",
       "      <td>4048</td>\n",
       "    </tr>\n",
       "    <tr>\n",
       "      <th>1</th>\n",
       "      <td>1212192089</td>\n",
       "      <td>151</td>\n",
       "      <td>275</td>\n",
       "      <td>570</td>\n",
       "      <td>750</td>\n",
       "      <td>813</td>\n",
       "      <td>1066</td>\n",
       "      <td>1164</td>\n",
       "      <td>1558</td>\n",
       "      <td>1756</td>\n",
       "      <td>...</td>\n",
       "      <td>2710</td>\n",
       "      <td>2942.0</td>\n",
       "      <td>3258</td>\n",
       "      <td>3354.0</td>\n",
       "      <td>3475.0</td>\n",
       "      <td>3654.0</td>\n",
       "      <td>3911</td>\n",
       "      <td>4024.0</td>\n",
       "      <td>4125.0</td>\n",
       "      <td>4277</td>\n",
       "    </tr>\n",
       "    <tr>\n",
       "      <th>2</th>\n",
       "      <td>1190380701</td>\n",
       "      <td>6</td>\n",
       "      <td>7</td>\n",
       "      <td>7</td>\n",
       "      <td>7</td>\n",
       "      <td>8</td>\n",
       "      <td>8</td>\n",
       "      <td>9</td>\n",
       "      <td>10</td>\n",
       "      <td>10</td>\n",
       "      <td>...</td>\n",
       "      <td>11</td>\n",
       "      <td>11.0</td>\n",
       "      <td>11</td>\n",
       "      <td>11.0</td>\n",
       "      <td>11.0</td>\n",
       "      <td>11.0</td>\n",
       "      <td>11</td>\n",
       "      <td>11.0</td>\n",
       "      <td>11.0</td>\n",
       "      <td>11</td>\n",
       "    </tr>\n",
       "    <tr>\n",
       "      <th>3</th>\n",
       "      <td>966005983</td>\n",
       "      <td>1005</td>\n",
       "      <td>1128</td>\n",
       "      <td>1326</td>\n",
       "      <td>1455</td>\n",
       "      <td>1507</td>\n",
       "      <td>1621</td>\n",
       "      <td>1637</td>\n",
       "      <td>1723</td>\n",
       "      <td>1746</td>\n",
       "      <td>...</td>\n",
       "      <td>1878</td>\n",
       "      <td>1892.0</td>\n",
       "      <td>1914</td>\n",
       "      <td>1924.0</td>\n",
       "      <td>1929.0</td>\n",
       "      <td>1941.0</td>\n",
       "      <td>1952</td>\n",
       "      <td>1955.0</td>\n",
       "      <td>1959.0</td>\n",
       "      <td>1963</td>\n",
       "    </tr>\n",
       "    <tr>\n",
       "      <th>4</th>\n",
       "      <td>876339541</td>\n",
       "      <td>996</td>\n",
       "      <td>1175</td>\n",
       "      <td>1304</td>\n",
       "      <td>1396</td>\n",
       "      <td>1432</td>\n",
       "      <td>1559</td>\n",
       "      <td>1570</td>\n",
       "      <td>1638</td>\n",
       "      <td>1655</td>\n",
       "      <td>...</td>\n",
       "      <td>2032</td>\n",
       "      <td>2156.0</td>\n",
       "      <td>2252</td>\n",
       "      <td>2312.0</td>\n",
       "      <td>2387.0</td>\n",
       "      <td>2459.0</td>\n",
       "      <td>2544</td>\n",
       "      <td>2614.0</td>\n",
       "      <td>2693.0</td>\n",
       "      <td>2736</td>\n",
       "    </tr>\n",
       "  </tbody>\n",
       "</table>\n",
       "<p>5 rows × 24 columns</p>\n",
       "</div>"
      ],
      "text/plain": [
       "     Dress_ID  29-08-2013  31-08-2013  09-02-2013  09-04-2013  09-06-2013  \\\n",
       "0  1006032852        2114        2274        2491        2660        2727   \n",
       "1  1212192089         151         275         570         750         813   \n",
       "2  1190380701           6           7           7           7           8   \n",
       "3   966005983        1005        1128        1326        1455        1507   \n",
       "4   876339541         996        1175        1304        1396        1432   \n",
       "\n",
       "   09-08-2013  09-10-2013 09-12-2013 14-09-2013  ... 24-09-2013 26-09-2013  \\\n",
       "0        2887        2930       3119       3204  ...       3554     3624.0   \n",
       "1        1066        1164       1558       1756  ...       2710     2942.0   \n",
       "2           8           9         10         10  ...         11       11.0   \n",
       "3        1621        1637       1723       1746  ...       1878     1892.0   \n",
       "4        1559        1570       1638       1655  ...       2032     2156.0   \n",
       "\n",
       "  28-09-2013 30-09-2013  10-02-2013  10-04-2013  10-06-2013  10-08-2013  \\\n",
       "0       3706     3746.0      3795.0      3832.0        3897      3923.0   \n",
       "1       3258     3354.0      3475.0      3654.0        3911      4024.0   \n",
       "2         11       11.0        11.0        11.0          11        11.0   \n",
       "3       1914     1924.0      1929.0      1941.0        1952      1955.0   \n",
       "4       2252     2312.0      2387.0      2459.0        2544      2614.0   \n",
       "\n",
       "   10-10-2013  10-12-2013  \n",
       "0      3985.0        4048  \n",
       "1      4125.0        4277  \n",
       "2        11.0          11  \n",
       "3      1959.0        1963  \n",
       "4      2693.0        2736  \n",
       "\n",
       "[5 rows x 24 columns]"
      ]
     },
     "execution_count": 4,
     "metadata": {},
     "output_type": "execute_result"
    }
   ],
   "source": [
    "data1.head()"
   ]
  },
  {
   "cell_type": "code",
   "execution_count": 5,
   "id": "c0a43cde",
   "metadata": {
    "execution": {
     "iopub.execute_input": "2022-10-24T12:26:01.980129Z",
     "iopub.status.busy": "2022-10-24T12:26:01.978999Z",
     "iopub.status.idle": "2022-10-24T12:26:02.005796Z",
     "shell.execute_reply": "2022-10-24T12:26:02.004516Z"
    },
    "papermill": {
     "duration": 0.05153,
     "end_time": "2022-10-24T12:26:02.008358",
     "exception": false,
     "start_time": "2022-10-24T12:26:01.956828",
     "status": "completed"
    },
    "tags": []
   },
   "outputs": [
    {
     "name": "stdout",
     "output_type": "stream",
     "text": [
      "<class 'pandas.core.frame.DataFrame'>\n",
      "RangeIndex: 479 entries, 0 to 478\n",
      "Data columns (total 13 columns):\n",
      " #   Column          Non-Null Count  Dtype  \n",
      "---  ------          --------------  -----  \n",
      " 0   Dress_ID        479 non-null    int64  \n",
      " 1   Style           479 non-null    object \n",
      " 2   Price           477 non-null    object \n",
      " 3   Rating          479 non-null    float64\n",
      " 4   Size            479 non-null    object \n",
      " 5   Season          477 non-null    object \n",
      " 6   NeckLine        476 non-null    object \n",
      " 7   SleeveLength    477 non-null    object \n",
      " 8   Material        360 non-null    object \n",
      " 9   FabricType      223 non-null    object \n",
      " 10  Decoration      255 non-null    object \n",
      " 11  Pattern Type    377 non-null    object \n",
      " 12  Recommendation  479 non-null    int64  \n",
      "dtypes: float64(1), int64(2), object(10)\n",
      "memory usage: 48.8+ KB\n"
     ]
    }
   ],
   "source": [
    "data0.info()"
   ]
  },
  {
   "cell_type": "code",
   "execution_count": 6,
   "id": "6c455bfd",
   "metadata": {
    "execution": {
     "iopub.execute_input": "2022-10-24T12:26:02.052383Z",
     "iopub.status.busy": "2022-10-24T12:26:02.051579Z",
     "iopub.status.idle": "2022-10-24T12:26:02.067078Z",
     "shell.execute_reply": "2022-10-24T12:26:02.065702Z"
    },
    "papermill": {
     "duration": 0.042036,
     "end_time": "2022-10-24T12:26:02.070820",
     "exception": false,
     "start_time": "2022-10-24T12:26:02.028784",
     "status": "completed"
    },
    "tags": []
   },
   "outputs": [
    {
     "name": "stdout",
     "output_type": "stream",
     "text": [
      "<class 'pandas.core.frame.DataFrame'>\n",
      "RangeIndex: 479 entries, 0 to 478\n",
      "Data columns (total 24 columns):\n",
      " #   Column      Non-Null Count  Dtype  \n",
      "---  ------      --------------  -----  \n",
      " 0   Dress_ID    479 non-null    int64  \n",
      " 1   29-08-2013  479 non-null    int64  \n",
      " 2   31-08-2013  479 non-null    int64  \n",
      " 3   09-02-2013  479 non-null    int64  \n",
      " 4   09-04-2013  479 non-null    int64  \n",
      " 5   09-06-2013  479 non-null    int64  \n",
      " 6   09-08-2013  479 non-null    int64  \n",
      " 7   09-10-2013  479 non-null    int64  \n",
      " 8   09-12-2013  479 non-null    object \n",
      " 9   14-09-2013  479 non-null    object \n",
      " 10  16-09-2013  479 non-null    object \n",
      " 11  18-09-2013  479 non-null    object \n",
      " 12  20-09-2013  479 non-null    object \n",
      " 13  22-09-2013  479 non-null    object \n",
      " 14  24-09-2013  479 non-null    int64  \n",
      " 15  26-09-2013  257 non-null    float64\n",
      " 16  28-09-2013  479 non-null    int64  \n",
      " 17  30-09-2013  222 non-null    float64\n",
      " 18  10-02-2013  220 non-null    float64\n",
      " 19  10-04-2013  221 non-null    float64\n",
      " 20  10-06-2013  479 non-null    int64  \n",
      " 21  10-08-2013  224 non-null    float64\n",
      " 22  10-10-2013  224 non-null    float64\n",
      " 23  10-12-2013  479 non-null    int64  \n",
      "dtypes: float64(6), int64(12), object(6)\n",
      "memory usage: 89.9+ KB\n"
     ]
    }
   ],
   "source": [
    "data1.info()"
   ]
  },
  {
   "cell_type": "code",
   "execution_count": 7,
   "id": "277d9143",
   "metadata": {
    "execution": {
     "iopub.execute_input": "2022-10-24T12:26:02.276115Z",
     "iopub.status.busy": "2022-10-24T12:26:02.275643Z",
     "iopub.status.idle": "2022-10-24T12:26:02.285044Z",
     "shell.execute_reply": "2022-10-24T12:26:02.284021Z"
    },
    "papermill": {
     "duration": 0.033024,
     "end_time": "2022-10-24T12:26:02.287302",
     "exception": false,
     "start_time": "2022-10-24T12:26:02.254278",
     "status": "completed"
    },
    "tags": []
   },
   "outputs": [
    {
     "data": {
      "text/plain": [
       "M        171\n",
       "free     165\n",
       "L         93\n",
       "S         34\n",
       "XL        14\n",
       "small      1\n",
       "s          1\n",
       "Name: Size, dtype: int64"
      ]
     },
     "execution_count": 7,
     "metadata": {},
     "output_type": "execute_result"
    }
   ],
   "source": [
    "data0.Size.value_counts()"
   ]
  },
  {
   "cell_type": "code",
   "execution_count": 8,
   "id": "dd820a59",
   "metadata": {
    "execution": {
     "iopub.execute_input": "2022-10-24T12:26:02.329860Z",
     "iopub.status.busy": "2022-10-24T12:26:02.329191Z",
     "iopub.status.idle": "2022-10-24T12:26:02.336721Z",
     "shell.execute_reply": "2022-10-24T12:26:02.335747Z"
    },
    "papermill": {
     "duration": 0.032089,
     "end_time": "2022-10-24T12:26:02.339216",
     "exception": false,
     "start_time": "2022-10-24T12:26:02.307127",
     "status": "completed"
    },
    "tags": []
   },
   "outputs": [],
   "source": [
    "data0.Size.replace({'M':\"Medium\", 'L':'Large', 'XL':'Extra Large', 'free':'Free', 'S':'Small', 's':'Small', 'small':'Small'},inplace =True)"
   ]
  },
  {
   "cell_type": "code",
   "execution_count": 9,
   "id": "8657fb47",
   "metadata": {
    "execution": {
     "iopub.execute_input": "2022-10-24T12:26:02.382612Z",
     "iopub.status.busy": "2022-10-24T12:26:02.382150Z",
     "iopub.status.idle": "2022-10-24T12:26:02.391386Z",
     "shell.execute_reply": "2022-10-24T12:26:02.390142Z"
    },
    "papermill": {
     "duration": 0.033775,
     "end_time": "2022-10-24T12:26:02.393649",
     "exception": false,
     "start_time": "2022-10-24T12:26:02.359874",
     "status": "completed"
    },
    "tags": []
   },
   "outputs": [
    {
     "data": {
      "text/plain": [
       "Medium         171\n",
       "Free           165\n",
       "Large           93\n",
       "Small           36\n",
       "Extra Large     14\n",
       "Name: Size, dtype: int64"
      ]
     },
     "execution_count": 9,
     "metadata": {},
     "output_type": "execute_result"
    }
   ],
   "source": [
    "data0.Size.value_counts()"
   ]
  },
  {
   "cell_type": "code",
   "execution_count": 10,
   "id": "0c266c46",
   "metadata": {
    "execution": {
     "iopub.execute_input": "2022-10-24T12:26:02.436965Z",
     "iopub.status.busy": "2022-10-24T12:26:02.436569Z",
     "iopub.status.idle": "2022-10-24T12:26:02.445082Z",
     "shell.execute_reply": "2022-10-24T12:26:02.443834Z"
    },
    "papermill": {
     "duration": 0.033905,
     "end_time": "2022-10-24T12:26:02.448042",
     "exception": false,
     "start_time": "2022-10-24T12:26:02.414137",
     "status": "completed"
    },
    "tags": []
   },
   "outputs": [
    {
     "data": {
      "text/plain": [
       "0"
      ]
     },
     "execution_count": 10,
     "metadata": {},
     "output_type": "execute_result"
    }
   ],
   "source": [
    "data0.Size.isnull().sum()"
   ]
  },
  {
   "cell_type": "code",
   "execution_count": 11,
   "id": "6c909997",
   "metadata": {
    "execution": {
     "iopub.execute_input": "2022-10-24T12:26:02.491862Z",
     "iopub.status.busy": "2022-10-24T12:26:02.491463Z",
     "iopub.status.idle": "2022-10-24T12:26:02.501450Z",
     "shell.execute_reply": "2022-10-24T12:26:02.500407Z"
    },
    "papermill": {
     "duration": 0.034878,
     "end_time": "2022-10-24T12:26:02.503592",
     "exception": false,
     "start_time": "2022-10-24T12:26:02.468714",
     "status": "completed"
    },
    "tags": []
   },
   "outputs": [
    {
     "data": {
      "text/plain": [
       "Medium         35.699374\n",
       "Free           34.446764\n",
       "Large          19.415449\n",
       "Small           7.515658\n",
       "Extra Large     2.922756\n",
       "Name: Size, dtype: float64"
      ]
     },
     "execution_count": 11,
     "metadata": {},
     "output_type": "execute_result"
    }
   ],
   "source": [
    "# Print the value counts of each category in \"Size\" column.\n",
    "data0.Size.value_counts()/data0.Size.shape[0] *100.0"
   ]
  },
  {
   "cell_type": "code",
   "execution_count": 12,
   "id": "b7d0de9e",
   "metadata": {
    "execution": {
     "iopub.execute_input": "2022-10-24T12:26:02.547419Z",
     "iopub.status.busy": "2022-10-24T12:26:02.546871Z",
     "iopub.status.idle": "2022-10-24T12:26:02.556875Z",
     "shell.execute_reply": "2022-10-24T12:26:02.555669Z"
    },
    "papermill": {
     "duration": 0.034943,
     "end_time": "2022-10-24T12:26:02.559339",
     "exception": false,
     "start_time": "2022-10-24T12:26:02.524396",
     "status": "completed"
    },
    "tags": []
   },
   "outputs": [
    {
     "data": {
      "text/plain": [
       "Medium         35.699374\n",
       "Free           34.446764\n",
       "Large          19.415449\n",
       "Small           7.515658\n",
       "Extra Large     2.922756\n",
       "Name: Size, dtype: float64"
      ]
     },
     "execution_count": 12,
     "metadata": {},
     "output_type": "execute_result"
    }
   ],
   "source": [
    "#OR\n",
    "\n",
    "data0.Size.value_counts(normalize = True)*100"
   ]
  },
  {
   "cell_type": "markdown",
   "id": "e8c057d4",
   "metadata": {
    "papermill": {
     "duration": 0.020218,
     "end_time": "2022-10-24T12:26:02.600221",
     "exception": false,
     "start_time": "2022-10-24T12:26:02.580003",
     "status": "completed"
    },
    "tags": []
   },
   "source": [
    "### Impute/Remove Missing values"
   ]
  },
  {
   "cell_type": "code",
   "execution_count": 13,
   "id": "b1b012e7",
   "metadata": {
    "execution": {
     "iopub.execute_input": "2022-10-24T12:26:02.643509Z",
     "iopub.status.busy": "2022-10-24T12:26:02.643103Z",
     "iopub.status.idle": "2022-10-24T12:26:02.664761Z",
     "shell.execute_reply": "2022-10-24T12:26:02.663755Z"
    },
    "papermill": {
     "duration": 0.047888,
     "end_time": "2022-10-24T12:26:02.669021",
     "exception": false,
     "start_time": "2022-10-24T12:26:02.621133",
     "status": "completed"
    },
    "tags": []
   },
   "outputs": [
    {
     "name": "stdout",
     "output_type": "stream",
     "text": [
      "<class 'pandas.core.frame.DataFrame'>\n",
      "RangeIndex: 479 entries, 0 to 478\n",
      "Data columns (total 13 columns):\n",
      " #   Column          Non-Null Count  Dtype  \n",
      "---  ------          --------------  -----  \n",
      " 0   Dress_ID        479 non-null    int64  \n",
      " 1   Style           479 non-null    object \n",
      " 2   Price           477 non-null    object \n",
      " 3   Rating          479 non-null    float64\n",
      " 4   Size            479 non-null    object \n",
      " 5   Season          477 non-null    object \n",
      " 6   NeckLine        476 non-null    object \n",
      " 7   SleeveLength    477 non-null    object \n",
      " 8   Material        360 non-null    object \n",
      " 9   FabricType      223 non-null    object \n",
      " 10  Decoration      255 non-null    object \n",
      " 11  Pattern Type    377 non-null    object \n",
      " 12  Recommendation  479 non-null    int64  \n",
      "dtypes: float64(1), int64(2), object(10)\n",
      "memory usage: 48.8+ KB\n",
      "None\n",
      "\n",
      "\n",
      "<class 'pandas.core.frame.DataFrame'>\n",
      "RangeIndex: 479 entries, 0 to 478\n",
      "Data columns (total 24 columns):\n",
      " #   Column      Non-Null Count  Dtype  \n",
      "---  ------      --------------  -----  \n",
      " 0   Dress_ID    479 non-null    int64  \n",
      " 1   29-08-2013  479 non-null    int64  \n",
      " 2   31-08-2013  479 non-null    int64  \n",
      " 3   09-02-2013  479 non-null    int64  \n",
      " 4   09-04-2013  479 non-null    int64  \n",
      " 5   09-06-2013  479 non-null    int64  \n",
      " 6   09-08-2013  479 non-null    int64  \n",
      " 7   09-10-2013  479 non-null    int64  \n",
      " 8   09-12-2013  479 non-null    object \n",
      " 9   14-09-2013  479 non-null    object \n",
      " 10  16-09-2013  479 non-null    object \n",
      " 11  18-09-2013  479 non-null    object \n",
      " 12  20-09-2013  479 non-null    object \n",
      " 13  22-09-2013  479 non-null    object \n",
      " 14  24-09-2013  479 non-null    int64  \n",
      " 15  26-09-2013  257 non-null    float64\n",
      " 16  28-09-2013  479 non-null    int64  \n",
      " 17  30-09-2013  222 non-null    float64\n",
      " 18  10-02-2013  220 non-null    float64\n",
      " 19  10-04-2013  221 non-null    float64\n",
      " 20  10-06-2013  479 non-null    int64  \n",
      " 21  10-08-2013  224 non-null    float64\n",
      " 22  10-10-2013  224 non-null    float64\n",
      " 23  10-12-2013  479 non-null    int64  \n",
      "dtypes: float64(6), int64(12), object(6)\n",
      "memory usage: 89.9+ KB\n",
      "None\n"
     ]
    }
   ],
   "source": [
    "# Print the null count of each variables of data0 and data1.\n",
    "print(data0.info())\n",
    "print('\\n')\n",
    "print(data1.info())"
   ]
  },
  {
   "cell_type": "code",
   "execution_count": 14,
   "id": "5a7b6087",
   "metadata": {
    "execution": {
     "iopub.execute_input": "2022-10-24T12:26:02.713746Z",
     "iopub.status.busy": "2022-10-24T12:26:02.713287Z",
     "iopub.status.idle": "2022-10-24T12:26:02.722070Z",
     "shell.execute_reply": "2022-10-24T12:26:02.721166Z"
    },
    "papermill": {
     "duration": 0.034486,
     "end_time": "2022-10-24T12:26:02.724525",
     "exception": false,
     "start_time": "2022-10-24T12:26:02.690039",
     "status": "completed"
    },
    "tags": []
   },
   "outputs": [
    {
     "data": {
      "text/plain": [
       "263    removed\n",
       "Name: 18-09-2013, dtype: object"
      ]
     },
     "execution_count": 14,
     "metadata": {},
     "output_type": "execute_result"
    }
   ],
   "source": [
    "data1['18-09-2013'][data1['18-09-2013']=='removed']\n",
    "# for column 18-09-2013 there is a value in 263th row as 'removed'"
   ]
  },
  {
   "cell_type": "code",
   "execution_count": 15,
   "id": "3162870e",
   "metadata": {
    "execution": {
     "iopub.execute_input": "2022-10-24T12:26:02.769462Z",
     "iopub.status.busy": "2022-10-24T12:26:02.769031Z",
     "iopub.status.idle": "2022-10-24T12:26:02.780564Z",
     "shell.execute_reply": "2022-10-24T12:26:02.779499Z"
    },
    "papermill": {
     "duration": 0.036514,
     "end_time": "2022-10-24T12:26:02.782839",
     "exception": false,
     "start_time": "2022-10-24T12:26:02.746325",
     "status": "completed"
    },
    "tags": []
   },
   "outputs": [],
   "source": [
    "# Do the required changes in the \"Dress Sales\" data set to get null values on string values.\n",
    "data1.loc[data1['09-12-2013']== 'Removed',\"09-12-2013\"] = np.NaN\n",
    "\n",
    "data1.loc[data1['14-09-2013']== 'removed',\"14-09-2013\"] = np.NaN\n",
    "\n",
    "data1.loc[data1['16-09-2013']== 'removed',\"16-09-2013\"] = np.NaN\n",
    "\n",
    "data1.loc[data1['18-09-2013']== 'removed',\"18-09-2013\"] = np.NaN\n",
    "\n",
    "data1.loc[data1['20-09-2013']== 'removed',\"20-09-2013\"] = np.NaN\n",
    "\n",
    "data1.loc[data1['22-09-2013']== 'Orders',\"22-09-2013\"] = np.NaN"
   ]
  },
  {
   "cell_type": "code",
   "execution_count": 16,
   "id": "28971ea9",
   "metadata": {
    "execution": {
     "iopub.execute_input": "2022-10-24T12:26:02.826532Z",
     "iopub.status.busy": "2022-10-24T12:26:02.826096Z",
     "iopub.status.idle": "2022-10-24T12:26:02.838403Z",
     "shell.execute_reply": "2022-10-24T12:26:02.836965Z"
    },
    "papermill": {
     "duration": 0.037166,
     "end_time": "2022-10-24T12:26:02.841028",
     "exception": false,
     "start_time": "2022-10-24T12:26:02.803862",
     "status": "completed"
    },
    "tags": []
   },
   "outputs": [],
   "source": [
    "# Convert the object type columns in \"Dress Sales\" into float type of data type.\n",
    "\n",
    "data1['18-09-2013']=data1['18-09-2013'].astype(float)\n",
    "data1['14-09-2013']=data1['14-09-2013'].astype(float)\n",
    "data1['16-09-2013']=data1['16-09-2013'].astype(float)\n",
    "data1['20-09-2013']=data1['20-09-2013'].astype(float)\n",
    "data1['22-09-2013']=data1['22-09-2013'].astype(float)\n",
    "data1['09-12-2013']=data1['09-12-2013'].astype(float)"
   ]
  },
  {
   "cell_type": "code",
   "execution_count": 17,
   "id": "d6088e62",
   "metadata": {
    "execution": {
     "iopub.execute_input": "2022-10-24T12:26:02.885071Z",
     "iopub.status.busy": "2022-10-24T12:26:02.884620Z",
     "iopub.status.idle": "2022-10-24T12:26:02.900229Z",
     "shell.execute_reply": "2022-10-24T12:26:02.899302Z"
    },
    "papermill": {
     "duration": 0.040767,
     "end_time": "2022-10-24T12:26:02.902849",
     "exception": false,
     "start_time": "2022-10-24T12:26:02.862082",
     "status": "completed"
    },
    "tags": []
   },
   "outputs": [
    {
     "name": "stdout",
     "output_type": "stream",
     "text": [
      "<class 'pandas.core.frame.DataFrame'>\n",
      "RangeIndex: 479 entries, 0 to 478\n",
      "Data columns (total 24 columns):\n",
      " #   Column      Non-Null Count  Dtype  \n",
      "---  ------      --------------  -----  \n",
      " 0   Dress_ID    479 non-null    int64  \n",
      " 1   29-08-2013  479 non-null    int64  \n",
      " 2   31-08-2013  479 non-null    int64  \n",
      " 3   09-02-2013  479 non-null    int64  \n",
      " 4   09-04-2013  479 non-null    int64  \n",
      " 5   09-06-2013  479 non-null    int64  \n",
      " 6   09-08-2013  479 non-null    int64  \n",
      " 7   09-10-2013  479 non-null    int64  \n",
      " 8   09-12-2013  478 non-null    float64\n",
      " 9   14-09-2013  478 non-null    float64\n",
      " 10  16-09-2013  478 non-null    float64\n",
      " 11  18-09-2013  478 non-null    float64\n",
      " 12  20-09-2013  478 non-null    float64\n",
      " 13  22-09-2013  478 non-null    float64\n",
      " 14  24-09-2013  479 non-null    int64  \n",
      " 15  26-09-2013  257 non-null    float64\n",
      " 16  28-09-2013  479 non-null    int64  \n",
      " 17  30-09-2013  222 non-null    float64\n",
      " 18  10-02-2013  220 non-null    float64\n",
      " 19  10-04-2013  221 non-null    float64\n",
      " 20  10-06-2013  479 non-null    int64  \n",
      " 21  10-08-2013  224 non-null    float64\n",
      " 22  10-10-2013  224 non-null    float64\n",
      " 23  10-12-2013  479 non-null    int64  \n",
      "dtypes: float64(12), int64(12)\n",
      "memory usage: 89.9 KB\n"
     ]
    }
   ],
   "source": [
    "data1.info()"
   ]
  },
  {
   "cell_type": "code",
   "execution_count": 18,
   "id": "86374d93",
   "metadata": {
    "execution": {
     "iopub.execute_input": "2022-10-24T12:26:02.988745Z",
     "iopub.status.busy": "2022-10-24T12:26:02.987662Z",
     "iopub.status.idle": "2022-10-24T12:26:03.003199Z",
     "shell.execute_reply": "2022-10-24T12:26:03.001923Z"
    },
    "papermill": {
     "duration": 0.040136,
     "end_time": "2022-10-24T12:26:03.005759",
     "exception": false,
     "start_time": "2022-10-24T12:26:02.965623",
     "status": "completed"
    },
    "tags": []
   },
   "outputs": [
    {
     "data": {
      "text/plain": [
       "26-09-2013    222\n",
       "30-09-2013    257\n",
       "10-02-2013    259\n",
       "10-04-2013    258\n",
       "10-08-2013    255\n",
       "10-10-2013    255\n",
       "dtype: int64"
      ]
     },
     "execution_count": 18,
     "metadata": {},
     "output_type": "execute_result"
    }
   ],
   "source": [
    "# Print the null percetange of each column of data1.\n",
    "(data1.isnull().sum()[data1.isnull().sum()/data1.shape[0]*100.0 >40])[:]"
   ]
  },
  {
   "cell_type": "code",
   "execution_count": 19,
   "id": "3bab1b52",
   "metadata": {
    "execution": {
     "iopub.execute_input": "2022-10-24T12:26:03.051025Z",
     "iopub.status.busy": "2022-10-24T12:26:03.049743Z",
     "iopub.status.idle": "2022-10-24T12:26:03.057349Z",
     "shell.execute_reply": "2022-10-24T12:26:03.056308Z"
    },
    "papermill": {
     "duration": 0.033135,
     "end_time": "2022-10-24T12:26:03.060104",
     "exception": false,
     "start_time": "2022-10-24T12:26:03.026969",
     "status": "completed"
    },
    "tags": []
   },
   "outputs": [],
   "source": [
    "# Drop the columns in \"Dress Sales\" which have more than 40% of missing values.\n",
    "data1.drop(columns =['26-09-2013','30-09-2013','10-02-2013','10-04-2013','10-08-2013','10-10-2013'],inplace=True)"
   ]
  },
  {
   "cell_type": "code",
   "execution_count": 20,
   "id": "d22735b2",
   "metadata": {
    "execution": {
     "iopub.execute_input": "2022-10-24T12:26:03.109207Z",
     "iopub.status.busy": "2022-10-24T12:26:03.107962Z",
     "iopub.status.idle": "2022-10-24T12:26:03.119768Z",
     "shell.execute_reply": "2022-10-24T12:26:03.118583Z"
    },
    "papermill": {
     "duration": 0.040891,
     "end_time": "2022-10-24T12:26:03.122245",
     "exception": false,
     "start_time": "2022-10-24T12:26:03.081354",
     "status": "completed"
    },
    "tags": []
   },
   "outputs": [
    {
     "data": {
      "text/plain": [
       "Dress_ID      0.000000\n",
       "29-08-2013    0.000000\n",
       "31-08-2013    0.000000\n",
       "09-02-2013    0.000000\n",
       "09-04-2013    0.000000\n",
       "09-06-2013    0.000000\n",
       "09-08-2013    0.000000\n",
       "09-10-2013    0.000000\n",
       "09-12-2013    0.208768\n",
       "14-09-2013    0.208768\n",
       "16-09-2013    0.208768\n",
       "18-09-2013    0.208768\n",
       "20-09-2013    0.208768\n",
       "22-09-2013    0.208768\n",
       "24-09-2013    0.000000\n",
       "28-09-2013    0.000000\n",
       "10-06-2013    0.000000\n",
       "10-12-2013    0.000000\n",
       "dtype: float64"
      ]
     },
     "execution_count": 20,
     "metadata": {},
     "output_type": "execute_result"
    }
   ],
   "source": [
    "data1.isnull().sum()/data1.shape[0]*100.0"
   ]
  },
  {
   "cell_type": "code",
   "execution_count": 21,
   "id": "3d506ca2",
   "metadata": {
    "execution": {
     "iopub.execute_input": "2022-10-24T12:26:03.210709Z",
     "iopub.status.busy": "2022-10-24T12:26:03.209365Z",
     "iopub.status.idle": "2022-10-24T12:26:03.223770Z",
     "shell.execute_reply": "2022-10-24T12:26:03.222369Z"
    },
    "papermill": {
     "duration": 0.040867,
     "end_time": "2022-10-24T12:26:03.226846",
     "exception": false,
     "start_time": "2022-10-24T12:26:03.185979",
     "status": "completed"
    },
    "tags": []
   },
   "outputs": [
    {
     "name": "stdout",
     "output_type": "stream",
     "text": [
      "<class 'pandas.core.frame.DataFrame'>\n",
      "RangeIndex: 479 entries, 0 to 478\n",
      "Data columns (total 13 columns):\n",
      " #   Column          Non-Null Count  Dtype  \n",
      "---  ------          --------------  -----  \n",
      " 0   Dress_ID        479 non-null    int64  \n",
      " 1   Style           479 non-null    object \n",
      " 2   Price           477 non-null    object \n",
      " 3   Rating          479 non-null    float64\n",
      " 4   Size            479 non-null    object \n",
      " 5   Season          477 non-null    object \n",
      " 6   NeckLine        476 non-null    object \n",
      " 7   SleeveLength    477 non-null    object \n",
      " 8   Material        360 non-null    object \n",
      " 9   FabricType      223 non-null    object \n",
      " 10  Decoration      255 non-null    object \n",
      " 11  Pattern Type    377 non-null    object \n",
      " 12  Recommendation  479 non-null    int64  \n",
      "dtypes: float64(1), int64(2), object(10)\n",
      "memory usage: 48.8+ KB\n"
     ]
    }
   ],
   "source": [
    "data0.info() #Attribute Dataset"
   ]
  },
  {
   "cell_type": "code",
   "execution_count": 22,
   "id": "9ffea1fa",
   "metadata": {
    "execution": {
     "iopub.execute_input": "2022-10-24T12:26:03.272863Z",
     "iopub.status.busy": "2022-10-24T12:26:03.272017Z",
     "iopub.status.idle": "2022-10-24T12:26:03.281752Z",
     "shell.execute_reply": "2022-10-24T12:26:03.280322Z"
    },
    "papermill": {
     "duration": 0.035653,
     "end_time": "2022-10-24T12:26:03.284573",
     "exception": false,
     "start_time": "2022-10-24T12:26:03.248920",
     "status": "completed"
    },
    "tags": []
   },
   "outputs": [
    {
     "data": {
      "text/plain": [
       "Summer    154\n",
       "Spring    116\n",
       "Winter     94\n",
       "Automn     59\n",
       "winter     45\n",
       "Autumn      7\n",
       "spring      2\n",
       "Name: Season, dtype: int64"
      ]
     },
     "execution_count": 22,
     "metadata": {},
     "output_type": "execute_result"
    }
   ],
   "source": [
    "data0.Season.value_counts()"
   ]
  },
  {
   "cell_type": "code",
   "execution_count": 23,
   "id": "315b0ecb",
   "metadata": {
    "execution": {
     "iopub.execute_input": "2022-10-24T12:26:03.330587Z",
     "iopub.status.busy": "2022-10-24T12:26:03.329205Z",
     "iopub.status.idle": "2022-10-24T12:26:03.337509Z",
     "shell.execute_reply": "2022-10-24T12:26:03.336365Z"
    },
    "papermill": {
     "duration": 0.033622,
     "end_time": "2022-10-24T12:26:03.339790",
     "exception": false,
     "start_time": "2022-10-24T12:26:03.306168",
     "status": "completed"
    },
    "tags": []
   },
   "outputs": [
    {
     "data": {
      "text/plain": [
       "Index(['Dress_ID', '29-08-2013', '31-08-2013', '09-02-2013', '09-04-2013',\n",
       "       '09-06-2013', '09-08-2013', '09-10-2013', '09-12-2013', '14-09-2013',\n",
       "       '16-09-2013', '18-09-2013', '20-09-2013', '22-09-2013', '24-09-2013',\n",
       "       '28-09-2013', '10-06-2013', '10-12-2013'],\n",
       "      dtype='object')"
      ]
     },
     "execution_count": 23,
     "metadata": {},
     "output_type": "execute_result"
    }
   ],
   "source": [
    "data1.columns"
   ]
  },
  {
   "cell_type": "code",
   "execution_count": 24,
   "id": "462c4c6c",
   "metadata": {
    "execution": {
     "iopub.execute_input": "2022-10-24T12:26:03.385158Z",
     "iopub.status.busy": "2022-10-24T12:26:03.384707Z",
     "iopub.status.idle": "2022-10-24T12:26:03.398632Z",
     "shell.execute_reply": "2022-10-24T12:26:03.397516Z"
    },
    "papermill": {
     "duration": 0.039733,
     "end_time": "2022-10-24T12:26:03.401195",
     "exception": false,
     "start_time": "2022-10-24T12:26:03.361462",
     "status": "completed"
    },
    "tags": []
   },
   "outputs": [],
   "source": [
    "# Create the four seasons columns in data1, according to the above criteria.\n",
    "Summer = (data1[['29-08-2013','31-08-2013','09-06-2013','09-08-2013', '10-06-2013']].sum()).sum()\n",
    "\n",
    "Autumn = (data1[['09-10-2013', '14-09-2013','16-09-2013', '18-09-2013', '20-09-2013', '22-09-2013', '24-09-2013',\n",
    "       '28-09-2013']].sum()).sum()\n",
    "\n",
    "Winter = (data1[['09-02-2013','10-12-2013']].sum()).sum()\n",
    "\n",
    "Spring = (data1['09-04-2013'].sum()).sum()"
   ]
  },
  {
   "cell_type": "code",
   "execution_count": 25,
   "id": "786ec9d5",
   "metadata": {
    "execution": {
     "iopub.execute_input": "2022-10-24T12:26:03.446715Z",
     "iopub.status.busy": "2022-10-24T12:26:03.446072Z",
     "iopub.status.idle": "2022-10-24T12:26:03.452920Z",
     "shell.execute_reply": "2022-10-24T12:26:03.451384Z"
    },
    "papermill": {
     "duration": 0.032636,
     "end_time": "2022-10-24T12:26:03.455527",
     "exception": false,
     "start_time": "2022-10-24T12:26:03.422891",
     "status": "completed"
    },
    "tags": []
   },
   "outputs": [
    {
     "name": "stdout",
     "output_type": "stream",
     "text": [
      "691907\n",
      "1363288.0\n",
      "314990\n",
      "143600\n"
     ]
    }
   ],
   "source": [
    "print(Summer)\n",
    "print(Autumn)\n",
    "print(Winter)\n",
    "print(Spring)"
   ]
  },
  {
   "cell_type": "code",
   "execution_count": 26,
   "id": "c1361200",
   "metadata": {
    "execution": {
     "iopub.execute_input": "2022-10-24T12:26:03.501332Z",
     "iopub.status.busy": "2022-10-24T12:26:03.500881Z",
     "iopub.status.idle": "2022-10-24T12:26:03.565101Z",
     "shell.execute_reply": "2022-10-24T12:26:03.563727Z"
    },
    "papermill": {
     "duration": 0.090599,
     "end_time": "2022-10-24T12:26:03.567916",
     "exception": false,
     "start_time": "2022-10-24T12:26:03.477317",
     "status": "completed"
    },
    "tags": []
   },
   "outputs": [],
   "source": [
    "data1['Spring'] = data1.apply(lambda x: x['09-04-2013'], axis=1)\n",
    "\n",
    "data1['Summer'] = data1.apply(lambda x: x['29-08-2013'] + x['31-08-2013']+ x['09-06-2013']+ x['09-08-2013']+ x['10-06-2013'], axis=1)\n",
    "\n",
    "data1['Winter'] = data1.apply(lambda x: x['09-02-2013'] + x['09-12-2013']+ x['10-12-2013'], axis=1)\n",
    "\n",
    "data1['Autumn'] = data1.apply(lambda x: x['09-10-2013'] + x['14-09-2013']+ x['16-09-2013']+ x['18-09-2013']+ x['20-09-2013']+ x['22-09-2013']+ x['24-09-2013']+ x['28-09-2013'], axis=1)\n"
   ]
  },
  {
   "cell_type": "code",
   "execution_count": 27,
   "id": "452614c0",
   "metadata": {
    "execution": {
     "iopub.execute_input": "2022-10-24T12:26:03.612935Z",
     "iopub.status.busy": "2022-10-24T12:26:03.612516Z",
     "iopub.status.idle": "2022-10-24T12:26:03.623306Z",
     "shell.execute_reply": "2022-10-24T12:26:03.622068Z"
    },
    "papermill": {
     "duration": 0.03647,
     "end_time": "2022-10-24T12:26:03.625896",
     "exception": false,
     "start_time": "2022-10-24T12:26:03.589426",
     "status": "completed"
    },
    "tags": []
   },
   "outputs": [
    {
     "data": {
      "text/plain": [
       "Dress_ID      4.321739e+11\n",
       "29-08-2013    9.488300e+04\n",
       "31-08-2013    1.004830e+05\n",
       "09-02-2013    1.070810e+05\n",
       "09-04-2013    1.436000e+05\n",
       "09-06-2013    1.459730e+05\n",
       "09-08-2013    1.516200e+05\n",
       "09-10-2013    1.533280e+05\n",
       "09-12-2013    1.596930e+05\n",
       "14-09-2013    1.627920e+05\n",
       "16-09-2013    1.653180e+05\n",
       "18-09-2013    1.678330e+05\n",
       "20-09-2013    1.723510e+05\n",
       "22-09-2013    1.764140e+05\n",
       "24-09-2013    1.786380e+05\n",
       "28-09-2013    1.866140e+05\n",
       "10-06-2013    1.989480e+05\n",
       "10-12-2013    2.079090e+05\n",
       "Spring        1.436000e+05\n",
       "Summer        6.919070e+05\n",
       "Winter        4.736400e+05\n",
       "Autumn        1.353543e+06\n",
       "dtype: float64"
      ]
     },
     "execution_count": 27,
     "metadata": {},
     "output_type": "execute_result"
    }
   ],
   "source": [
    "# calculate the sum of sales in each seasons in data1 i.e. \"Dress Sales\".\n",
    "data1.sum()"
   ]
  },
  {
   "cell_type": "code",
   "execution_count": 28,
   "id": "f6ef6650",
   "metadata": {
    "execution": {
     "iopub.execute_input": "2022-10-24T12:26:03.672193Z",
     "iopub.status.busy": "2022-10-24T12:26:03.671717Z",
     "iopub.status.idle": "2022-10-24T12:26:03.711929Z",
     "shell.execute_reply": "2022-10-24T12:26:03.710996Z"
    },
    "papermill": {
     "duration": 0.065961,
     "end_time": "2022-10-24T12:26:03.714323",
     "exception": false,
     "start_time": "2022-10-24T12:26:03.648362",
     "status": "completed"
    },
    "tags": []
   },
   "outputs": [
    {
     "data": {
      "text/html": [
       "<div>\n",
       "<style scoped>\n",
       "    .dataframe tbody tr th:only-of-type {\n",
       "        vertical-align: middle;\n",
       "    }\n",
       "\n",
       "    .dataframe tbody tr th {\n",
       "        vertical-align: top;\n",
       "    }\n",
       "\n",
       "    .dataframe thead th {\n",
       "        text-align: right;\n",
       "    }\n",
       "</style>\n",
       "<table border=\"1\" class=\"dataframe\">\n",
       "  <thead>\n",
       "    <tr style=\"text-align: right;\">\n",
       "      <th></th>\n",
       "      <th>Dress_ID</th>\n",
       "      <th>Style</th>\n",
       "      <th>Price</th>\n",
       "      <th>Rating</th>\n",
       "      <th>Size</th>\n",
       "      <th>Season</th>\n",
       "      <th>NeckLine</th>\n",
       "      <th>SleeveLength</th>\n",
       "      <th>Material</th>\n",
       "      <th>FabricType</th>\n",
       "      <th>...</th>\n",
       "      <th>20-09-2013</th>\n",
       "      <th>22-09-2013</th>\n",
       "      <th>24-09-2013</th>\n",
       "      <th>28-09-2013</th>\n",
       "      <th>10-06-2013</th>\n",
       "      <th>10-12-2013</th>\n",
       "      <th>Spring</th>\n",
       "      <th>Summer</th>\n",
       "      <th>Winter</th>\n",
       "      <th>Autumn</th>\n",
       "    </tr>\n",
       "  </thead>\n",
       "  <tbody>\n",
       "    <tr>\n",
       "      <th>0</th>\n",
       "      <td>1006032852</td>\n",
       "      <td>Sexy</td>\n",
       "      <td>Low</td>\n",
       "      <td>4.6</td>\n",
       "      <td>Medium</td>\n",
       "      <td>Summer</td>\n",
       "      <td>o-neck</td>\n",
       "      <td>sleevless</td>\n",
       "      <td>NaN</td>\n",
       "      <td>chiffon</td>\n",
       "      <td>...</td>\n",
       "      <td>3386.0</td>\n",
       "      <td>3479.0</td>\n",
       "      <td>3554</td>\n",
       "      <td>3706</td>\n",
       "      <td>3897</td>\n",
       "      <td>4048</td>\n",
       "      <td>2660.0</td>\n",
       "      <td>13899.0</td>\n",
       "      <td>9658.0</td>\n",
       "      <td>26857.0</td>\n",
       "    </tr>\n",
       "    <tr>\n",
       "      <th>1</th>\n",
       "      <td>1212192089</td>\n",
       "      <td>Casual</td>\n",
       "      <td>Low</td>\n",
       "      <td>0.0</td>\n",
       "      <td>Large</td>\n",
       "      <td>Summer</td>\n",
       "      <td>o-neck</td>\n",
       "      <td>Petal</td>\n",
       "      <td>microfiber</td>\n",
       "      <td>NaN</td>\n",
       "      <td>...</td>\n",
       "      <td>2106.0</td>\n",
       "      <td>2454.0</td>\n",
       "      <td>2710</td>\n",
       "      <td>3258</td>\n",
       "      <td>3911</td>\n",
       "      <td>4277</td>\n",
       "      <td>750.0</td>\n",
       "      <td>6216.0</td>\n",
       "      <td>6405.0</td>\n",
       "      <td>17311.0</td>\n",
       "    </tr>\n",
       "    <tr>\n",
       "      <th>2</th>\n",
       "      <td>1190380701</td>\n",
       "      <td>vintage</td>\n",
       "      <td>High</td>\n",
       "      <td>0.0</td>\n",
       "      <td>Large</td>\n",
       "      <td>Automn</td>\n",
       "      <td>o-neck</td>\n",
       "      <td>full</td>\n",
       "      <td>polyster</td>\n",
       "      <td>NaN</td>\n",
       "      <td>...</td>\n",
       "      <td>10.0</td>\n",
       "      <td>11.0</td>\n",
       "      <td>11</td>\n",
       "      <td>11</td>\n",
       "      <td>11</td>\n",
       "      <td>11</td>\n",
       "      <td>7.0</td>\n",
       "      <td>40.0</td>\n",
       "      <td>28.0</td>\n",
       "      <td>82.0</td>\n",
       "    </tr>\n",
       "    <tr>\n",
       "      <th>3</th>\n",
       "      <td>966005983</td>\n",
       "      <td>Brief</td>\n",
       "      <td>Average</td>\n",
       "      <td>4.6</td>\n",
       "      <td>Large</td>\n",
       "      <td>Spring</td>\n",
       "      <td>o-neck</td>\n",
       "      <td>full</td>\n",
       "      <td>silk</td>\n",
       "      <td>chiffon</td>\n",
       "      <td>...</td>\n",
       "      <td>1812.0</td>\n",
       "      <td>1845.0</td>\n",
       "      <td>1878</td>\n",
       "      <td>1914</td>\n",
       "      <td>1952</td>\n",
       "      <td>1963</td>\n",
       "      <td>1455.0</td>\n",
       "      <td>7213.0</td>\n",
       "      <td>5012.0</td>\n",
       "      <td>14411.0</td>\n",
       "    </tr>\n",
       "    <tr>\n",
       "      <th>4</th>\n",
       "      <td>876339541</td>\n",
       "      <td>cute</td>\n",
       "      <td>Low</td>\n",
       "      <td>4.5</td>\n",
       "      <td>Medium</td>\n",
       "      <td>Summer</td>\n",
       "      <td>o-neck</td>\n",
       "      <td>butterfly</td>\n",
       "      <td>chiffonfabric</td>\n",
       "      <td>chiffon</td>\n",
       "      <td>...</td>\n",
       "      <td>1824.0</td>\n",
       "      <td>1919.0</td>\n",
       "      <td>2032</td>\n",
       "      <td>2252</td>\n",
       "      <td>2544</td>\n",
       "      <td>2736</td>\n",
       "      <td>1396.0</td>\n",
       "      <td>7706.0</td>\n",
       "      <td>5678.0</td>\n",
       "      <td>14676.0</td>\n",
       "    </tr>\n",
       "  </tbody>\n",
       "</table>\n",
       "<p>5 rows × 34 columns</p>\n",
       "</div>"
      ],
      "text/plain": [
       "     Dress_ID    Style    Price  Rating    Size  Season NeckLine SleeveLength  \\\n",
       "0  1006032852     Sexy      Low     4.6  Medium  Summer   o-neck    sleevless   \n",
       "1  1212192089   Casual      Low     0.0   Large  Summer   o-neck        Petal   \n",
       "2  1190380701  vintage     High     0.0   Large  Automn   o-neck         full   \n",
       "3   966005983    Brief  Average     4.6   Large  Spring   o-neck         full   \n",
       "4   876339541     cute      Low     4.5  Medium  Summer   o-neck    butterfly   \n",
       "\n",
       "        Material FabricType  ... 20-09-2013 22-09-2013  24-09-2013  \\\n",
       "0            NaN    chiffon  ...     3386.0     3479.0        3554   \n",
       "1     microfiber        NaN  ...     2106.0     2454.0        2710   \n",
       "2       polyster        NaN  ...       10.0       11.0          11   \n",
       "3           silk    chiffon  ...     1812.0     1845.0        1878   \n",
       "4  chiffonfabric    chiffon  ...     1824.0     1919.0        2032   \n",
       "\n",
       "   28-09-2013  10-06-2013  10-12-2013  Spring   Summer  Winter   Autumn  \n",
       "0        3706        3897        4048  2660.0  13899.0  9658.0  26857.0  \n",
       "1        3258        3911        4277   750.0   6216.0  6405.0  17311.0  \n",
       "2          11          11          11     7.0     40.0    28.0     82.0  \n",
       "3        1914        1952        1963  1455.0   7213.0  5012.0  14411.0  \n",
       "4        2252        2544        2736  1396.0   7706.0  5678.0  14676.0  \n",
       "\n",
       "[5 rows x 34 columns]"
      ]
     },
     "execution_count": 28,
     "metadata": {},
     "output_type": "execute_result"
    }
   ],
   "source": [
    "# Now let's merge data1 with data0 with left join manner, so that the information of data0 should remain intact.\n",
    "data0 = pd.merge(left=data0,right=data1, how='left', left_on='Dress_ID', right_on='Dress_ID')\n",
    "data0.head()"
   ]
  },
  {
   "cell_type": "code",
   "execution_count": 29,
   "id": "5a46d845",
   "metadata": {
    "execution": {
     "iopub.execute_input": "2022-10-24T12:26:03.762438Z",
     "iopub.status.busy": "2022-10-24T12:26:03.761725Z",
     "iopub.status.idle": "2022-10-24T12:26:03.769739Z",
     "shell.execute_reply": "2022-10-24T12:26:03.768869Z"
    },
    "papermill": {
     "duration": 0.034372,
     "end_time": "2022-10-24T12:26:03.772151",
     "exception": false,
     "start_time": "2022-10-24T12:26:03.737779",
     "status": "completed"
    },
    "tags": []
   },
   "outputs": [],
   "source": [
    "# Now Drop the Date columns from data0 as it is already combined into four seasons.\n",
    "data0.drop(data0.loc[:,'29-08-2013':'10-12-2013'].columns, axis= 1, inplace= True)"
   ]
  },
  {
   "cell_type": "code",
   "execution_count": 30,
   "id": "aa3e2daa",
   "metadata": {
    "execution": {
     "iopub.execute_input": "2022-10-24T12:26:03.818603Z",
     "iopub.status.busy": "2022-10-24T12:26:03.818210Z",
     "iopub.status.idle": "2022-10-24T12:26:03.841475Z",
     "shell.execute_reply": "2022-10-24T12:26:03.839975Z"
    },
    "papermill": {
     "duration": 0.050025,
     "end_time": "2022-10-24T12:26:03.844369",
     "exception": false,
     "start_time": "2022-10-24T12:26:03.794344",
     "status": "completed"
    },
    "tags": []
   },
   "outputs": [
    {
     "data": {
      "text/html": [
       "<div>\n",
       "<style scoped>\n",
       "    .dataframe tbody tr th:only-of-type {\n",
       "        vertical-align: middle;\n",
       "    }\n",
       "\n",
       "    .dataframe tbody tr th {\n",
       "        vertical-align: top;\n",
       "    }\n",
       "\n",
       "    .dataframe thead th {\n",
       "        text-align: right;\n",
       "    }\n",
       "</style>\n",
       "<table border=\"1\" class=\"dataframe\">\n",
       "  <thead>\n",
       "    <tr style=\"text-align: right;\">\n",
       "      <th></th>\n",
       "      <th>Dress_ID</th>\n",
       "      <th>Style</th>\n",
       "      <th>Price</th>\n",
       "      <th>Rating</th>\n",
       "      <th>Size</th>\n",
       "      <th>Season</th>\n",
       "      <th>NeckLine</th>\n",
       "      <th>SleeveLength</th>\n",
       "      <th>Material</th>\n",
       "      <th>FabricType</th>\n",
       "      <th>Decoration</th>\n",
       "      <th>Pattern Type</th>\n",
       "      <th>Recommendation</th>\n",
       "      <th>Spring</th>\n",
       "      <th>Summer</th>\n",
       "      <th>Winter</th>\n",
       "      <th>Autumn</th>\n",
       "    </tr>\n",
       "  </thead>\n",
       "  <tbody>\n",
       "    <tr>\n",
       "      <th>0</th>\n",
       "      <td>1006032852</td>\n",
       "      <td>Sexy</td>\n",
       "      <td>Low</td>\n",
       "      <td>4.6</td>\n",
       "      <td>Medium</td>\n",
       "      <td>Summer</td>\n",
       "      <td>o-neck</td>\n",
       "      <td>sleevless</td>\n",
       "      <td>NaN</td>\n",
       "      <td>chiffon</td>\n",
       "      <td>ruffles</td>\n",
       "      <td>animal</td>\n",
       "      <td>1</td>\n",
       "      <td>2660.0</td>\n",
       "      <td>13899.0</td>\n",
       "      <td>9658.0</td>\n",
       "      <td>26857.0</td>\n",
       "    </tr>\n",
       "    <tr>\n",
       "      <th>1</th>\n",
       "      <td>1212192089</td>\n",
       "      <td>Casual</td>\n",
       "      <td>Low</td>\n",
       "      <td>0.0</td>\n",
       "      <td>Large</td>\n",
       "      <td>Summer</td>\n",
       "      <td>o-neck</td>\n",
       "      <td>Petal</td>\n",
       "      <td>microfiber</td>\n",
       "      <td>NaN</td>\n",
       "      <td>ruffles</td>\n",
       "      <td>animal</td>\n",
       "      <td>0</td>\n",
       "      <td>750.0</td>\n",
       "      <td>6216.0</td>\n",
       "      <td>6405.0</td>\n",
       "      <td>17311.0</td>\n",
       "    </tr>\n",
       "    <tr>\n",
       "      <th>2</th>\n",
       "      <td>1190380701</td>\n",
       "      <td>vintage</td>\n",
       "      <td>High</td>\n",
       "      <td>0.0</td>\n",
       "      <td>Large</td>\n",
       "      <td>Automn</td>\n",
       "      <td>o-neck</td>\n",
       "      <td>full</td>\n",
       "      <td>polyster</td>\n",
       "      <td>NaN</td>\n",
       "      <td>NaN</td>\n",
       "      <td>print</td>\n",
       "      <td>0</td>\n",
       "      <td>7.0</td>\n",
       "      <td>40.0</td>\n",
       "      <td>28.0</td>\n",
       "      <td>82.0</td>\n",
       "    </tr>\n",
       "    <tr>\n",
       "      <th>3</th>\n",
       "      <td>966005983</td>\n",
       "      <td>Brief</td>\n",
       "      <td>Average</td>\n",
       "      <td>4.6</td>\n",
       "      <td>Large</td>\n",
       "      <td>Spring</td>\n",
       "      <td>o-neck</td>\n",
       "      <td>full</td>\n",
       "      <td>silk</td>\n",
       "      <td>chiffon</td>\n",
       "      <td>embroidary</td>\n",
       "      <td>print</td>\n",
       "      <td>1</td>\n",
       "      <td>1455.0</td>\n",
       "      <td>7213.0</td>\n",
       "      <td>5012.0</td>\n",
       "      <td>14411.0</td>\n",
       "    </tr>\n",
       "    <tr>\n",
       "      <th>4</th>\n",
       "      <td>876339541</td>\n",
       "      <td>cute</td>\n",
       "      <td>Low</td>\n",
       "      <td>4.5</td>\n",
       "      <td>Medium</td>\n",
       "      <td>Summer</td>\n",
       "      <td>o-neck</td>\n",
       "      <td>butterfly</td>\n",
       "      <td>chiffonfabric</td>\n",
       "      <td>chiffon</td>\n",
       "      <td>bow</td>\n",
       "      <td>dot</td>\n",
       "      <td>0</td>\n",
       "      <td>1396.0</td>\n",
       "      <td>7706.0</td>\n",
       "      <td>5678.0</td>\n",
       "      <td>14676.0</td>\n",
       "    </tr>\n",
       "  </tbody>\n",
       "</table>\n",
       "</div>"
      ],
      "text/plain": [
       "     Dress_ID    Style    Price  Rating    Size  Season NeckLine SleeveLength  \\\n",
       "0  1006032852     Sexy      Low     4.6  Medium  Summer   o-neck    sleevless   \n",
       "1  1212192089   Casual      Low     0.0   Large  Summer   o-neck        Petal   \n",
       "2  1190380701  vintage     High     0.0   Large  Automn   o-neck         full   \n",
       "3   966005983    Brief  Average     4.6   Large  Spring   o-neck         full   \n",
       "4   876339541     cute      Low     4.5  Medium  Summer   o-neck    butterfly   \n",
       "\n",
       "        Material FabricType  Decoration Pattern Type  Recommendation  Spring  \\\n",
       "0            NaN    chiffon     ruffles       animal               1  2660.0   \n",
       "1     microfiber        NaN     ruffles       animal               0   750.0   \n",
       "2       polyster        NaN         NaN        print               0     7.0   \n",
       "3           silk    chiffon  embroidary        print               1  1455.0   \n",
       "4  chiffonfabric    chiffon         bow          dot               0  1396.0   \n",
       "\n",
       "    Summer  Winter   Autumn  \n",
       "0  13899.0  9658.0  26857.0  \n",
       "1   6216.0  6405.0  17311.0  \n",
       "2     40.0    28.0     82.0  \n",
       "3   7213.0  5012.0  14411.0  \n",
       "4   7706.0  5678.0  14676.0  "
      ]
     },
     "execution_count": 30,
     "metadata": {},
     "output_type": "execute_result"
    }
   ],
   "source": [
    "data0.head()"
   ]
  },
  {
   "cell_type": "code",
   "execution_count": 31,
   "id": "f549178d",
   "metadata": {
    "execution": {
     "iopub.execute_input": "2022-10-24T12:26:03.893626Z",
     "iopub.status.busy": "2022-10-24T12:26:03.893185Z",
     "iopub.status.idle": "2022-10-24T12:26:03.904066Z",
     "shell.execute_reply": "2022-10-24T12:26:03.902898Z"
    },
    "papermill": {
     "duration": 0.038993,
     "end_time": "2022-10-24T12:26:03.906684",
     "exception": false,
     "start_time": "2022-10-24T12:26:03.867691",
     "status": "completed"
    },
    "tags": []
   },
   "outputs": [
    {
     "data": {
      "text/plain": [
       "Dress_ID            0\n",
       "Style               0\n",
       "Price               2\n",
       "Rating              0\n",
       "Size                0\n",
       "Season              2\n",
       "NeckLine            3\n",
       "SleeveLength        2\n",
       "Material          119\n",
       "FabricType        256\n",
       "Decoration        224\n",
       "Pattern Type      102\n",
       "Recommendation      0\n",
       "Spring              0\n",
       "Summer              0\n",
       "Winter              1\n",
       "Autumn              2\n",
       "dtype: int64"
      ]
     },
     "execution_count": 31,
     "metadata": {},
     "output_type": "execute_result"
    }
   ],
   "source": [
    "# Print the null count of each columns in data0 dataframe i.e. combined data frame of data0 and data1 without date columns.\n",
    "data0.isnull().sum()"
   ]
  },
  {
   "cell_type": "code",
   "execution_count": 32,
   "id": "1cad9ba1",
   "metadata": {
    "execution": {
     "iopub.execute_input": "2022-10-24T12:26:04.089659Z",
     "iopub.status.busy": "2022-10-24T12:26:04.089257Z",
     "iopub.status.idle": "2022-10-24T12:26:04.098204Z",
     "shell.execute_reply": "2022-10-24T12:26:04.096775Z"
    },
    "papermill": {
     "duration": 0.035665,
     "end_time": "2022-10-24T12:26:04.100772",
     "exception": false,
     "start_time": "2022-10-24T12:26:04.065107",
     "status": "completed"
    },
    "tags": []
   },
   "outputs": [],
   "source": [
    "#correcting the spellings.\n",
    "data0.Season= data0.Season.replace('Automn', \"Autumn\")\n",
    "\n",
    "data0.Season= data0.Season.replace('spring', \"Spring\")\n",
    "\n",
    "data0.Season= data0.Season.replace('winter', \"Winter\")"
   ]
  },
  {
   "cell_type": "code",
   "execution_count": 33,
   "id": "43195793",
   "metadata": {
    "execution": {
     "iopub.execute_input": "2022-10-24T12:26:04.148953Z",
     "iopub.status.busy": "2022-10-24T12:26:04.148531Z",
     "iopub.status.idle": "2022-10-24T12:26:04.171727Z",
     "shell.execute_reply": "2022-10-24T12:26:04.170395Z"
    },
    "papermill": {
     "duration": 0.050619,
     "end_time": "2022-10-24T12:26:04.174262",
     "exception": false,
     "start_time": "2022-10-24T12:26:04.123643",
     "status": "completed"
    },
    "tags": []
   },
   "outputs": [
    {
     "data": {
      "text/html": [
       "<div>\n",
       "<style scoped>\n",
       "    .dataframe tbody tr th:only-of-type {\n",
       "        vertical-align: middle;\n",
       "    }\n",
       "\n",
       "    .dataframe tbody tr th {\n",
       "        vertical-align: top;\n",
       "    }\n",
       "\n",
       "    .dataframe thead th {\n",
       "        text-align: right;\n",
       "    }\n",
       "</style>\n",
       "<table border=\"1\" class=\"dataframe\">\n",
       "  <thead>\n",
       "    <tr style=\"text-align: right;\">\n",
       "      <th></th>\n",
       "      <th>Dress_ID</th>\n",
       "      <th>Style</th>\n",
       "      <th>Price</th>\n",
       "      <th>Rating</th>\n",
       "      <th>Size</th>\n",
       "      <th>Season</th>\n",
       "      <th>NeckLine</th>\n",
       "      <th>SleeveLength</th>\n",
       "      <th>Material</th>\n",
       "      <th>FabricType</th>\n",
       "      <th>Decoration</th>\n",
       "      <th>Pattern Type</th>\n",
       "      <th>Recommendation</th>\n",
       "      <th>Spring</th>\n",
       "      <th>Summer</th>\n",
       "      <th>Winter</th>\n",
       "      <th>Autumn</th>\n",
       "    </tr>\n",
       "  </thead>\n",
       "  <tbody>\n",
       "    <tr>\n",
       "      <th>0</th>\n",
       "      <td>1006032852</td>\n",
       "      <td>Sexy</td>\n",
       "      <td>Low</td>\n",
       "      <td>4.6</td>\n",
       "      <td>Medium</td>\n",
       "      <td>Summer</td>\n",
       "      <td>o-neck</td>\n",
       "      <td>sleevless</td>\n",
       "      <td>NaN</td>\n",
       "      <td>chiffon</td>\n",
       "      <td>ruffles</td>\n",
       "      <td>animal</td>\n",
       "      <td>1</td>\n",
       "      <td>2660.0</td>\n",
       "      <td>13899.0</td>\n",
       "      <td>9658.0</td>\n",
       "      <td>26857.0</td>\n",
       "    </tr>\n",
       "    <tr>\n",
       "      <th>1</th>\n",
       "      <td>1212192089</td>\n",
       "      <td>Casual</td>\n",
       "      <td>Low</td>\n",
       "      <td>0.0</td>\n",
       "      <td>Large</td>\n",
       "      <td>Summer</td>\n",
       "      <td>o-neck</td>\n",
       "      <td>Petal</td>\n",
       "      <td>microfiber</td>\n",
       "      <td>NaN</td>\n",
       "      <td>ruffles</td>\n",
       "      <td>animal</td>\n",
       "      <td>0</td>\n",
       "      <td>750.0</td>\n",
       "      <td>6216.0</td>\n",
       "      <td>6405.0</td>\n",
       "      <td>17311.0</td>\n",
       "    </tr>\n",
       "    <tr>\n",
       "      <th>2</th>\n",
       "      <td>1190380701</td>\n",
       "      <td>vintage</td>\n",
       "      <td>High</td>\n",
       "      <td>0.0</td>\n",
       "      <td>Large</td>\n",
       "      <td>Autumn</td>\n",
       "      <td>o-neck</td>\n",
       "      <td>full</td>\n",
       "      <td>polyster</td>\n",
       "      <td>NaN</td>\n",
       "      <td>NaN</td>\n",
       "      <td>print</td>\n",
       "      <td>0</td>\n",
       "      <td>7.0</td>\n",
       "      <td>40.0</td>\n",
       "      <td>28.0</td>\n",
       "      <td>82.0</td>\n",
       "    </tr>\n",
       "    <tr>\n",
       "      <th>3</th>\n",
       "      <td>966005983</td>\n",
       "      <td>Brief</td>\n",
       "      <td>Average</td>\n",
       "      <td>4.6</td>\n",
       "      <td>Large</td>\n",
       "      <td>Spring</td>\n",
       "      <td>o-neck</td>\n",
       "      <td>full</td>\n",
       "      <td>silk</td>\n",
       "      <td>chiffon</td>\n",
       "      <td>embroidary</td>\n",
       "      <td>print</td>\n",
       "      <td>1</td>\n",
       "      <td>1455.0</td>\n",
       "      <td>7213.0</td>\n",
       "      <td>5012.0</td>\n",
       "      <td>14411.0</td>\n",
       "    </tr>\n",
       "    <tr>\n",
       "      <th>4</th>\n",
       "      <td>876339541</td>\n",
       "      <td>cute</td>\n",
       "      <td>Low</td>\n",
       "      <td>4.5</td>\n",
       "      <td>Medium</td>\n",
       "      <td>Summer</td>\n",
       "      <td>o-neck</td>\n",
       "      <td>butterfly</td>\n",
       "      <td>chiffonfabric</td>\n",
       "      <td>chiffon</td>\n",
       "      <td>bow</td>\n",
       "      <td>dot</td>\n",
       "      <td>0</td>\n",
       "      <td>1396.0</td>\n",
       "      <td>7706.0</td>\n",
       "      <td>5678.0</td>\n",
       "      <td>14676.0</td>\n",
       "    </tr>\n",
       "  </tbody>\n",
       "</table>\n",
       "</div>"
      ],
      "text/plain": [
       "     Dress_ID    Style    Price  Rating    Size  Season NeckLine SleeveLength  \\\n",
       "0  1006032852     Sexy      Low     4.6  Medium  Summer   o-neck    sleevless   \n",
       "1  1212192089   Casual      Low     0.0   Large  Summer   o-neck        Petal   \n",
       "2  1190380701  vintage     High     0.0   Large  Autumn   o-neck         full   \n",
       "3   966005983    Brief  Average     4.6   Large  Spring   o-neck         full   \n",
       "4   876339541     cute      Low     4.5  Medium  Summer   o-neck    butterfly   \n",
       "\n",
       "        Material FabricType  Decoration Pattern Type  Recommendation  Spring  \\\n",
       "0            NaN    chiffon     ruffles       animal               1  2660.0   \n",
       "1     microfiber        NaN     ruffles       animal               0   750.0   \n",
       "2       polyster        NaN         NaN        print               0     7.0   \n",
       "3           silk    chiffon  embroidary        print               1  1455.0   \n",
       "4  chiffonfabric    chiffon         bow          dot               0  1396.0   \n",
       "\n",
       "    Summer  Winter   Autumn  \n",
       "0  13899.0  9658.0  26857.0  \n",
       "1   6216.0  6405.0  17311.0  \n",
       "2     40.0    28.0     82.0  \n",
       "3   7213.0  5012.0  14411.0  \n",
       "4   7706.0  5678.0  14676.0  "
      ]
     },
     "execution_count": 33,
     "metadata": {},
     "output_type": "execute_result"
    }
   ],
   "source": [
    "data0.head()"
   ]
  },
  {
   "cell_type": "markdown",
   "id": "a120a48b",
   "metadata": {
    "papermill": {
     "duration": 0.023252,
     "end_time": "2022-10-24T12:26:04.220653",
     "exception": false,
     "start_time": "2022-10-24T12:26:04.197401",
     "status": "completed"
    },
    "tags": []
   },
   "source": [
    "# Univariate Analysis"
   ]
  },
  {
   "cell_type": "code",
   "execution_count": 34,
   "id": "ae760a75",
   "metadata": {
    "execution": {
     "iopub.execute_input": "2022-10-24T12:26:04.361314Z",
     "iopub.status.busy": "2022-10-24T12:26:04.360797Z",
     "iopub.status.idle": "2022-10-24T12:26:04.381242Z",
     "shell.execute_reply": "2022-10-24T12:26:04.379741Z"
    },
    "papermill": {
     "duration": 0.049223,
     "end_time": "2022-10-24T12:26:04.384024",
     "exception": false,
     "start_time": "2022-10-24T12:26:04.334801",
     "status": "completed"
    },
    "tags": []
   },
   "outputs": [],
   "source": [
    "data0['TotalSales'] = data0.apply(lambda x: x['Summer'] + x['Winter']+ x['Autumn']+ x['Spring'], axis=1)"
   ]
  },
  {
   "cell_type": "code",
   "execution_count": 35,
   "id": "6d8f51eb",
   "metadata": {
    "execution": {
     "iopub.execute_input": "2022-10-24T12:26:04.433115Z",
     "iopub.status.busy": "2022-10-24T12:26:04.431874Z",
     "iopub.status.idle": "2022-10-24T12:26:04.458190Z",
     "shell.execute_reply": "2022-10-24T12:26:04.456437Z"
    },
    "papermill": {
     "duration": 0.053813,
     "end_time": "2022-10-24T12:26:04.460758",
     "exception": false,
     "start_time": "2022-10-24T12:26:04.406945",
     "status": "completed"
    },
    "tags": []
   },
   "outputs": [
    {
     "data": {
      "text/html": [
       "<div>\n",
       "<style scoped>\n",
       "    .dataframe tbody tr th:only-of-type {\n",
       "        vertical-align: middle;\n",
       "    }\n",
       "\n",
       "    .dataframe tbody tr th {\n",
       "        vertical-align: top;\n",
       "    }\n",
       "\n",
       "    .dataframe thead th {\n",
       "        text-align: right;\n",
       "    }\n",
       "</style>\n",
       "<table border=\"1\" class=\"dataframe\">\n",
       "  <thead>\n",
       "    <tr style=\"text-align: right;\">\n",
       "      <th></th>\n",
       "      <th>Dress_ID</th>\n",
       "      <th>Rating</th>\n",
       "      <th>Recommendation</th>\n",
       "      <th>Spring</th>\n",
       "      <th>Summer</th>\n",
       "      <th>Winter</th>\n",
       "      <th>Autumn</th>\n",
       "      <th>TotalSales</th>\n",
       "    </tr>\n",
       "    <tr>\n",
       "      <th>Style</th>\n",
       "      <th></th>\n",
       "      <th></th>\n",
       "      <th></th>\n",
       "      <th></th>\n",
       "      <th></th>\n",
       "      <th></th>\n",
       "      <th></th>\n",
       "      <th></th>\n",
       "    </tr>\n",
       "  </thead>\n",
       "  <tbody>\n",
       "    <tr>\n",
       "      <th>Flare</th>\n",
       "      <td>2011575734</td>\n",
       "      <td>0.0</td>\n",
       "      <td>1</td>\n",
       "      <td>71.0</td>\n",
       "      <td>451.0</td>\n",
       "      <td>406.0</td>\n",
       "      <td>1161.0</td>\n",
       "      <td>2089.0</td>\n",
       "    </tr>\n",
       "    <tr>\n",
       "      <th>Novelty</th>\n",
       "      <td>6799573268</td>\n",
       "      <td>14.1</td>\n",
       "      <td>3</td>\n",
       "      <td>563.0</td>\n",
       "      <td>2866.0</td>\n",
       "      <td>2504.0</td>\n",
       "      <td>7353.0</td>\n",
       "      <td>13286.0</td>\n",
       "    </tr>\n",
       "    <tr>\n",
       "      <th>OL</th>\n",
       "      <td>1194626925</td>\n",
       "      <td>0.0</td>\n",
       "      <td>0</td>\n",
       "      <td>15.0</td>\n",
       "      <td>63.0</td>\n",
       "      <td>53.0</td>\n",
       "      <td>158.0</td>\n",
       "      <td>289.0</td>\n",
       "    </tr>\n",
       "    <tr>\n",
       "      <th>fashion</th>\n",
       "      <td>836788720</td>\n",
       "      <td>4.0</td>\n",
       "      <td>0</td>\n",
       "      <td>19.0</td>\n",
       "      <td>91.0</td>\n",
       "      <td>74.0</td>\n",
       "      <td>211.0</td>\n",
       "      <td>395.0</td>\n",
       "    </tr>\n",
       "  </tbody>\n",
       "</table>\n",
       "</div>"
      ],
      "text/plain": [
       "           Dress_ID  Rating  Recommendation  Spring  Summer  Winter  Autumn  \\\n",
       "Style                                                                         \n",
       "Flare    2011575734     0.0               1    71.0   451.0   406.0  1161.0   \n",
       "Novelty  6799573268    14.1               3   563.0  2866.0  2504.0  7353.0   \n",
       "OL       1194626925     0.0               0    15.0    63.0    53.0   158.0   \n",
       "fashion   836788720     4.0               0    19.0    91.0    74.0   211.0   \n",
       "\n",
       "         TotalSales  \n",
       "Style                \n",
       "Flare        2089.0  \n",
       "Novelty     13286.0  \n",
       "OL            289.0  \n",
       "fashion       395.0  "
      ]
     },
     "execution_count": 35,
     "metadata": {},
     "output_type": "execute_result"
    }
   ],
   "source": [
    "# Group \"Style\" categories into \"Others\" which have less than 50000 sales across all the seasons.\n",
    "data0.groupby(data0.Style).sum()[(data0.groupby(data0.Style).sum()).TotalSales<50000]"
   ]
  },
  {
   "cell_type": "code",
   "execution_count": 36,
   "id": "b947915f",
   "metadata": {
    "execution": {
     "iopub.execute_input": "2022-10-24T12:26:04.510185Z",
     "iopub.status.busy": "2022-10-24T12:26:04.509749Z",
     "iopub.status.idle": "2022-10-24T12:26:04.524359Z",
     "shell.execute_reply": "2022-10-24T12:26:04.523183Z"
    },
    "papermill": {
     "duration": 0.042649,
     "end_time": "2022-10-24T12:26:04.527140",
     "exception": false,
     "start_time": "2022-10-24T12:26:04.484491",
     "status": "completed"
    },
    "tags": []
   },
   "outputs": [],
   "source": [
    "#Replace with 'Others'\n",
    "data0.replace(data0.groupby(data0.Style).sum()[(data0.groupby(data0.Style).sum()).TotalSales<50000].index,'Others',inplace=True)"
   ]
  },
  {
   "cell_type": "code",
   "execution_count": 37,
   "id": "d855b3e0",
   "metadata": {
    "execution": {
     "iopub.execute_input": "2022-10-24T12:26:04.575333Z",
     "iopub.status.busy": "2022-10-24T12:26:04.574805Z",
     "iopub.status.idle": "2022-10-24T12:26:04.584959Z",
     "shell.execute_reply": "2022-10-24T12:26:04.583675Z"
    },
    "papermill": {
     "duration": 0.037075,
     "end_time": "2022-10-24T12:26:04.587342",
     "exception": false,
     "start_time": "2022-10-24T12:26:04.550267",
     "status": "completed"
    },
    "tags": []
   },
   "outputs": [
    {
     "data": {
      "text/plain": [
       "Casual      45.7\n",
       "Sexy        13.8\n",
       "party       10.6\n",
       "cute         9.2\n",
       "vintage      5.2\n",
       "bohemian     4.8\n",
       "Brief        3.5\n",
       "work         3.5\n",
       "Others       2.1\n",
       "sexy         1.5\n",
       "Name: Style, dtype: float64"
      ]
     },
     "execution_count": 37,
     "metadata": {},
     "output_type": "execute_result"
    }
   ],
   "source": [
    "round(data0.Style.value_counts(normalize=True)*100.0,1)"
   ]
  },
  {
   "cell_type": "code",
   "execution_count": 38,
   "id": "a13bd7c5",
   "metadata": {
    "execution": {
     "iopub.execute_input": "2022-10-24T12:26:04.682591Z",
     "iopub.status.busy": "2022-10-24T12:26:04.682179Z",
     "iopub.status.idle": "2022-10-24T12:26:04.950031Z",
     "shell.execute_reply": "2022-10-24T12:26:04.948625Z"
    },
    "papermill": {
     "duration": 0.295405,
     "end_time": "2022-10-24T12:26:04.952886",
     "exception": false,
     "start_time": "2022-10-24T12:26:04.657481",
     "status": "completed"
    },
    "tags": []
   },
   "outputs": [
    {
     "data": {
      "image/png": "[encoded data removed]",
      "text/plain": [
       "<Figure size 432x288 with 1 Axes>"
      ]
     },
     "metadata": {
      "needs_background": "light"
     },
     "output_type": "display_data"
    }
   ],
   "source": [
    "# Calculate the percentage of each categories in the \"Style\" variable.\n",
    "(round(data0.Style.value_counts(normalize=True)*100.0,1)).plot.barh()\n",
    "plt.show()"
   ]
  },
  {
   "cell_type": "code",
   "execution_count": 39,
   "id": "e3ccb2e5",
   "metadata": {
    "execution": {
     "iopub.execute_input": "2022-10-24T12:26:05.051944Z",
     "iopub.status.busy": "2022-10-24T12:26:05.050778Z",
     "iopub.status.idle": "2022-10-24T12:26:05.067937Z",
     "shell.execute_reply": "2022-10-24T12:26:05.066566Z"
    },
    "papermill": {
     "duration": 0.045844,
     "end_time": "2022-10-24T12:26:05.071144",
     "exception": false,
     "start_time": "2022-10-24T12:26:05.025300",
     "status": "completed"
    },
    "tags": []
   },
   "outputs": [],
   "source": [
    "# Group \"material\" categories into \"Others\" which have less than 25000 sales across all the seasons.\n",
    "data0.replace(data0.groupby(data0.Material).sum()[(data0.groupby(data0.Material).sum()).TotalSales<25000].index,'Others',inplace=True)"
   ]
  },
  {
   "cell_type": "code",
   "execution_count": 40,
   "id": "a626aacb",
   "metadata": {
    "execution": {
     "iopub.execute_input": "2022-10-24T12:26:05.120816Z",
     "iopub.status.busy": "2022-10-24T12:26:05.120364Z",
     "iopub.status.idle": "2022-10-24T12:26:05.138511Z",
     "shell.execute_reply": "2022-10-24T12:26:05.137480Z"
    },
    "papermill": {
     "duration": 0.046143,
     "end_time": "2022-10-24T12:26:05.140971",
     "exception": false,
     "start_time": "2022-10-24T12:26:05.094828",
     "status": "completed"
    },
    "tags": []
   },
   "outputs": [],
   "source": [
    "# Group \"fabric type\" categories into \"Others\" which have less than 25000 sales across all the seasons.\n",
    "data0.replace(data0.groupby(data0.FabricType).sum()[(data0.groupby(data0.FabricType).sum()).TotalSales<25000].index,'Others',inplace=True)"
   ]
  },
  {
   "cell_type": "code",
   "execution_count": 41,
   "id": "b73cff56",
   "metadata": {
    "execution": {
     "iopub.execute_input": "2022-10-24T12:26:05.191446Z",
     "iopub.status.busy": "2022-10-24T12:26:05.190940Z",
     "iopub.status.idle": "2022-10-24T12:26:05.206712Z",
     "shell.execute_reply": "2022-10-24T12:26:05.205722Z"
    },
    "papermill": {
     "duration": 0.043888,
     "end_time": "2022-10-24T12:26:05.209182",
     "exception": false,
     "start_time": "2022-10-24T12:26:05.165294",
     "status": "completed"
    },
    "tags": []
   },
   "outputs": [],
   "source": [
    "# Group \"patern type\" categories into \"Others\" which have less than 25000 sales across all the seasons.\n",
    "data0.replace(data0.groupby(data0['Pattern Type']).sum()[(data0.groupby(data0['Pattern Type']).sum()).TotalSales<25000].index,'Others',inplace=True)"
   ]
  },
  {
   "cell_type": "code",
   "execution_count": 42,
   "id": "ee7b7728",
   "metadata": {
    "execution": {
     "iopub.execute_input": "2022-10-24T12:26:05.259480Z",
     "iopub.status.busy": "2022-10-24T12:26:05.258973Z",
     "iopub.status.idle": "2022-10-24T12:26:05.276263Z",
     "shell.execute_reply": "2022-10-24T12:26:05.275016Z"
    },
    "papermill": {
     "duration": 0.045698,
     "end_time": "2022-10-24T12:26:05.279051",
     "exception": false,
     "start_time": "2022-10-24T12:26:05.233353",
     "status": "completed"
    },
    "tags": []
   },
   "outputs": [],
   "source": [
    "# Group \"decoration\" categories into \"Others\" which have less than 25000 sales across all the seasons.\n",
    "data0.replace(data0.groupby(data0.Decoration).sum()[(data0.groupby(data0.Decoration).sum()).TotalSales<25000].index,'Others',inplace=True)"
   ]
  },
  {
   "cell_type": "code",
   "execution_count": 43,
   "id": "d59518ff",
   "metadata": {
    "execution": {
     "iopub.execute_input": "2022-10-24T12:26:05.531223Z",
     "iopub.status.busy": "2022-10-24T12:26:05.529995Z",
     "iopub.status.idle": "2022-10-24T12:26:05.715985Z",
     "shell.execute_reply": "2022-10-24T12:26:05.714905Z"
    },
    "papermill": {
     "duration": 0.213358,
     "end_time": "2022-10-24T12:26:05.718514",
     "exception": false,
     "start_time": "2022-10-24T12:26:05.505156",
     "status": "completed"
    },
    "tags": []
   },
   "outputs": [
    {
     "data": {
      "image/png": "[encoded data removed]",
      "text/plain": [
       "<Figure size 720x504 with 1 Axes>"
      ]
     },
     "metadata": {
      "needs_background": "light"
     },
     "output_type": "display_data"
    }
   ],
   "source": [
    "# plot the boxplot of \"Autumn\" column.\n",
    "import warnings\n",
    "warnings.filterwarnings('ignore')\n",
    "plt.figure(figsize = (10,7))\n",
    "sns.boxplot(data0.Autumn)\n",
    "plt.show()"
   ]
  },
  {
   "cell_type": "code",
   "execution_count": 44,
   "id": "6681ecdd",
   "metadata": {
    "execution": {
     "iopub.execute_input": "2022-10-24T12:26:05.815070Z",
     "iopub.status.busy": "2022-10-24T12:26:05.813984Z",
     "iopub.status.idle": "2022-10-24T12:26:05.822725Z",
     "shell.execute_reply": "2022-10-24T12:26:05.821539Z"
    },
    "papermill": {
     "duration": 0.036001,
     "end_time": "2022-10-24T12:26:05.825249",
     "exception": false,
     "start_time": "2022-10-24T12:26:05.789248",
     "status": "completed"
    },
    "tags": []
   },
   "outputs": [
    {
     "data": {
      "text/plain": [
       "11469.969999999983"
      ]
     },
     "execution_count": 44,
     "metadata": {},
     "output_type": "execute_result"
    }
   ],
   "source": [
    "# Find the maximum and 99th percentile of Winter season.\n",
    "data0.Winter.max() - data0.Winter.quantile(.99)"
   ]
  },
  {
   "cell_type": "code",
   "execution_count": 45,
   "id": "be78d40d",
   "metadata": {
    "execution": {
     "iopub.execute_input": "2022-10-24T12:26:05.875918Z",
     "iopub.status.busy": "2022-10-24T12:26:05.875462Z",
     "iopub.status.idle": "2022-10-24T12:26:05.885537Z",
     "shell.execute_reply": "2022-10-24T12:26:05.884267Z"
    },
    "papermill": {
     "duration": 0.038164,
     "end_time": "2022-10-24T12:26:05.887892",
     "exception": false,
     "start_time": "2022-10-24T12:26:05.849728",
     "status": "completed"
    },
    "tags": []
   },
   "outputs": [
    {
     "data": {
      "text/plain": [
       "21623.000000000007"
      ]
     },
     "execution_count": 45,
     "metadata": {},
     "output_type": "execute_result"
    }
   ],
   "source": [
    "# Find the maximum and 99th percentile of Winter season.\n",
    "data0.Summer.max() - data0.Summer.quantile(.99)"
   ]
  },
  {
   "cell_type": "code",
   "execution_count": 46,
   "id": "c3945da1",
   "metadata": {
    "execution": {
     "iopub.execute_input": "2022-10-24T12:26:05.939393Z",
     "iopub.status.busy": "2022-10-24T12:26:05.938933Z",
     "iopub.status.idle": "2022-10-24T12:26:05.948347Z",
     "shell.execute_reply": "2022-10-24T12:26:05.947397Z"
    },
    "papermill": {
     "duration": 0.037827,
     "end_time": "2022-10-24T12:26:05.950819",
     "exception": false,
     "start_time": "2022-10-24T12:26:05.912992",
     "status": "completed"
    },
    "tags": []
   },
   "outputs": [
    {
     "data": {
      "text/plain": [
       "31528.19999999998"
      ]
     },
     "execution_count": 46,
     "metadata": {},
     "output_type": "execute_result"
    }
   ],
   "source": [
    "# Find the maximum and 99th percentile of Spring season.\n",
    "data0.Autumn.max() - data0.Autumn.quantile(.99)"
   ]
  },
  {
   "cell_type": "code",
   "execution_count": 47,
   "id": "6b46234b",
   "metadata": {
    "execution": {
     "iopub.execute_input": "2022-10-24T12:26:06.001964Z",
     "iopub.status.busy": "2022-10-24T12:26:06.001290Z",
     "iopub.status.idle": "2022-10-24T12:26:06.010547Z",
     "shell.execute_reply": "2022-10-24T12:26:06.009309Z"
    },
    "papermill": {
     "duration": 0.038712,
     "end_time": "2022-10-24T12:26:06.013424",
     "exception": false,
     "start_time": "2022-10-24T12:26:05.974712",
     "status": "completed"
    },
    "tags": []
   },
   "outputs": [
    {
     "data": {
      "text/plain": [
       "4717.12"
      ]
     },
     "execution_count": 47,
     "metadata": {},
     "output_type": "execute_result"
    }
   ],
   "source": [
    "# Find the maximum and 99th percentile of Autumn season.\n",
    "data0.Spring.max() - data0.Spring.quantile(.99)"
   ]
  },
  {
   "cell_type": "markdown",
   "id": "250c570b",
   "metadata": {
    "papermill": {
     "duration": 0.023908,
     "end_time": "2022-10-24T12:26:06.061556",
     "exception": false,
     "start_time": "2022-10-24T12:26:06.037648",
     "status": "completed"
    },
    "tags": []
   },
   "source": [
    "# Bivariate Analysis "
   ]
  },
  {
   "cell_type": "code",
   "execution_count": 48,
   "id": "e66c7553",
   "metadata": {
    "execution": {
     "iopub.execute_input": "2022-10-24T12:26:06.160835Z",
     "iopub.status.busy": "2022-10-24T12:26:06.160430Z",
     "iopub.status.idle": "2022-10-24T12:26:06.172564Z",
     "shell.execute_reply": "2022-10-24T12:26:06.171163Z"
    },
    "papermill": {
     "duration": 0.040147,
     "end_time": "2022-10-24T12:26:06.175005",
     "exception": false,
     "start_time": "2022-10-24T12:26:06.134858",
     "status": "completed"
    },
    "tags": []
   },
   "outputs": [
    {
     "data": {
      "text/plain": [
       "Price\n",
       "Average      3.464167\n",
       "High         2.914286\n",
       "Low          3.692121\n",
       "Medium       3.156667\n",
       "very-high    3.123810\n",
       "Name: Rating, dtype: float64"
      ]
     },
     "execution_count": 48,
     "metadata": {},
     "output_type": "execute_result"
    }
   ],
   "source": [
    "data0.groupby(by = 'Price')['Rating'].mean()"
   ]
  },
  {
   "cell_type": "code",
   "execution_count": 49,
   "id": "d6a65ae5",
   "metadata": {
    "execution": {
     "iopub.execute_input": "2022-10-24T12:26:06.225545Z",
     "iopub.status.busy": "2022-10-24T12:26:06.225160Z",
     "iopub.status.idle": "2022-10-24T12:26:06.462903Z",
     "shell.execute_reply": "2022-10-24T12:26:06.461966Z"
    },
    "papermill": {
     "duration": 0.266024,
     "end_time": "2022-10-24T12:26:06.465285",
     "exception": false,
     "start_time": "2022-10-24T12:26:06.199261",
     "status": "completed"
    },
    "tags": []
   },
   "outputs": [
    {
     "data": {
      "image/png": "[encoded data removed]",
      "text/plain": [
       "<Figure size 432x288 with 1 Axes>"
      ]
     },
     "metadata": {
      "needs_background": "light"
     },
     "output_type": "display_data"
    }
   ],
   "source": [
    "sns.boxplot(data = data0, x = 'Price', y = 'Rating', palette= 'RdYlBu')\n",
    "plt.show()"
   ]
  },
  {
   "cell_type": "code",
   "execution_count": 50,
   "id": "b3045c4d",
   "metadata": {
    "execution": {
     "iopub.execute_input": "2022-10-24T12:26:06.567443Z",
     "iopub.status.busy": "2022-10-24T12:26:06.566650Z",
     "iopub.status.idle": "2022-10-24T12:26:06.577223Z",
     "shell.execute_reply": "2022-10-24T12:26:06.575996Z"
    },
    "papermill": {
     "duration": 0.041294,
     "end_time": "2022-10-24T12:26:06.580040",
     "exception": false,
     "start_time": "2022-10-24T12:26:06.538746",
     "status": "completed"
    },
    "tags": []
   },
   "outputs": [
    {
     "data": {
      "text/plain": [
       "Style\n",
       "Brief       4.60\n",
       "Casual      4.60\n",
       "Others      0.00\n",
       "Sexy        4.55\n",
       "bohemian    4.60\n",
       "cute        4.55\n",
       "party       4.70\n",
       "sexy        4.50\n",
       "vintage     4.60\n",
       "work        4.70\n",
       "Name: Rating, dtype: float64"
      ]
     },
     "execution_count": 50,
     "metadata": {},
     "output_type": "execute_result"
    }
   ],
   "source": [
    "data0.groupby(by = 'Style').Rating.median()"
   ]
  },
  {
   "cell_type": "code",
   "execution_count": 51,
   "id": "d559e01c",
   "metadata": {
    "execution": {
     "iopub.execute_input": "2022-10-24T12:26:06.681152Z",
     "iopub.status.busy": "2022-10-24T12:26:06.680354Z",
     "iopub.status.idle": "2022-10-24T12:26:06.704176Z",
     "shell.execute_reply": "2022-10-24T12:26:06.702770Z"
    },
    "papermill": {
     "duration": 0.052279,
     "end_time": "2022-10-24T12:26:06.706654",
     "exception": false,
     "start_time": "2022-10-24T12:26:06.654375",
     "status": "completed"
    },
    "tags": []
   },
   "outputs": [
    {
     "data": {
      "text/html": [
       "<div>\n",
       "<style scoped>\n",
       "    .dataframe tbody tr th:only-of-type {\n",
       "        vertical-align: middle;\n",
       "    }\n",
       "\n",
       "    .dataframe tbody tr th {\n",
       "        vertical-align: top;\n",
       "    }\n",
       "\n",
       "    .dataframe thead th {\n",
       "        text-align: right;\n",
       "    }\n",
       "</style>\n",
       "<table border=\"1\" class=\"dataframe\">\n",
       "  <thead>\n",
       "    <tr style=\"text-align: right;\">\n",
       "      <th></th>\n",
       "      <th>Dress_ID</th>\n",
       "      <th>Style</th>\n",
       "      <th>Price</th>\n",
       "      <th>Rating</th>\n",
       "      <th>Size</th>\n",
       "      <th>Season</th>\n",
       "      <th>NeckLine</th>\n",
       "      <th>SleeveLength</th>\n",
       "      <th>Material</th>\n",
       "      <th>FabricType</th>\n",
       "      <th>Decoration</th>\n",
       "      <th>Pattern Type</th>\n",
       "      <th>Recommendation</th>\n",
       "      <th>Spring</th>\n",
       "      <th>Summer</th>\n",
       "      <th>Winter</th>\n",
       "      <th>Autumn</th>\n",
       "      <th>TotalSales</th>\n",
       "    </tr>\n",
       "  </thead>\n",
       "  <tbody>\n",
       "    <tr>\n",
       "      <th>0</th>\n",
       "      <td>1006032852</td>\n",
       "      <td>Sexy</td>\n",
       "      <td>Low</td>\n",
       "      <td>4.6</td>\n",
       "      <td>Medium</td>\n",
       "      <td>Summer</td>\n",
       "      <td>o-neck</td>\n",
       "      <td>sleevless</td>\n",
       "      <td>NaN</td>\n",
       "      <td>chiffon</td>\n",
       "      <td>ruffles</td>\n",
       "      <td>animal</td>\n",
       "      <td>1</td>\n",
       "      <td>2660.0</td>\n",
       "      <td>13899.0</td>\n",
       "      <td>9658.0</td>\n",
       "      <td>26857.0</td>\n",
       "      <td>53074.0</td>\n",
       "    </tr>\n",
       "    <tr>\n",
       "      <th>1</th>\n",
       "      <td>1212192089</td>\n",
       "      <td>Casual</td>\n",
       "      <td>Low</td>\n",
       "      <td>0.0</td>\n",
       "      <td>Large</td>\n",
       "      <td>Summer</td>\n",
       "      <td>o-neck</td>\n",
       "      <td>Petal</td>\n",
       "      <td>microfiber</td>\n",
       "      <td>NaN</td>\n",
       "      <td>ruffles</td>\n",
       "      <td>animal</td>\n",
       "      <td>0</td>\n",
       "      <td>750.0</td>\n",
       "      <td>6216.0</td>\n",
       "      <td>6405.0</td>\n",
       "      <td>17311.0</td>\n",
       "      <td>30682.0</td>\n",
       "    </tr>\n",
       "    <tr>\n",
       "      <th>2</th>\n",
       "      <td>1190380701</td>\n",
       "      <td>vintage</td>\n",
       "      <td>High</td>\n",
       "      <td>0.0</td>\n",
       "      <td>Large</td>\n",
       "      <td>Autumn</td>\n",
       "      <td>o-neck</td>\n",
       "      <td>full</td>\n",
       "      <td>polyster</td>\n",
       "      <td>NaN</td>\n",
       "      <td>NaN</td>\n",
       "      <td>print</td>\n",
       "      <td>0</td>\n",
       "      <td>7.0</td>\n",
       "      <td>40.0</td>\n",
       "      <td>28.0</td>\n",
       "      <td>82.0</td>\n",
       "      <td>157.0</td>\n",
       "    </tr>\n",
       "    <tr>\n",
       "      <th>3</th>\n",
       "      <td>966005983</td>\n",
       "      <td>Brief</td>\n",
       "      <td>Average</td>\n",
       "      <td>4.6</td>\n",
       "      <td>Large</td>\n",
       "      <td>Spring</td>\n",
       "      <td>o-neck</td>\n",
       "      <td>full</td>\n",
       "      <td>silk</td>\n",
       "      <td>chiffon</td>\n",
       "      <td>embroidary</td>\n",
       "      <td>print</td>\n",
       "      <td>1</td>\n",
       "      <td>1455.0</td>\n",
       "      <td>7213.0</td>\n",
       "      <td>5012.0</td>\n",
       "      <td>14411.0</td>\n",
       "      <td>28091.0</td>\n",
       "    </tr>\n",
       "    <tr>\n",
       "      <th>4</th>\n",
       "      <td>876339541</td>\n",
       "      <td>cute</td>\n",
       "      <td>Low</td>\n",
       "      <td>4.5</td>\n",
       "      <td>Medium</td>\n",
       "      <td>Summer</td>\n",
       "      <td>o-neck</td>\n",
       "      <td>butterfly</td>\n",
       "      <td>chiffonfabric</td>\n",
       "      <td>chiffon</td>\n",
       "      <td>bow</td>\n",
       "      <td>dot</td>\n",
       "      <td>0</td>\n",
       "      <td>1396.0</td>\n",
       "      <td>7706.0</td>\n",
       "      <td>5678.0</td>\n",
       "      <td>14676.0</td>\n",
       "      <td>29456.0</td>\n",
       "    </tr>\n",
       "  </tbody>\n",
       "</table>\n",
       "</div>"
      ],
      "text/plain": [
       "     Dress_ID    Style    Price  Rating    Size  Season NeckLine SleeveLength  \\\n",
       "0  1006032852     Sexy      Low     4.6  Medium  Summer   o-neck    sleevless   \n",
       "1  1212192089   Casual      Low     0.0   Large  Summer   o-neck        Petal   \n",
       "2  1190380701  vintage     High     0.0   Large  Autumn   o-neck         full   \n",
       "3   966005983    Brief  Average     4.6   Large  Spring   o-neck         full   \n",
       "4   876339541     cute      Low     4.5  Medium  Summer   o-neck    butterfly   \n",
       "\n",
       "        Material FabricType  Decoration Pattern Type  Recommendation  Spring  \\\n",
       "0            NaN    chiffon     ruffles       animal               1  2660.0   \n",
       "1     microfiber        NaN     ruffles       animal               0   750.0   \n",
       "2       polyster        NaN         NaN        print               0     7.0   \n",
       "3           silk    chiffon  embroidary        print               1  1455.0   \n",
       "4  chiffonfabric    chiffon         bow          dot               0  1396.0   \n",
       "\n",
       "    Summer  Winter   Autumn  TotalSales  \n",
       "0  13899.0  9658.0  26857.0     53074.0  \n",
       "1   6216.0  6405.0  17311.0     30682.0  \n",
       "2     40.0    28.0     82.0       157.0  \n",
       "3   7213.0  5012.0  14411.0     28091.0  \n",
       "4   7706.0  5678.0  14676.0     29456.0  "
      ]
     },
     "execution_count": 51,
     "metadata": {},
     "output_type": "execute_result"
    }
   ],
   "source": [
    "data0.head()"
   ]
  },
  {
   "cell_type": "code",
   "execution_count": 52,
   "id": "e992746b",
   "metadata": {
    "execution": {
     "iopub.execute_input": "2022-10-24T12:26:06.758869Z",
     "iopub.status.busy": "2022-10-24T12:26:06.758479Z",
     "iopub.status.idle": "2022-10-24T12:26:06.968305Z",
     "shell.execute_reply": "2022-10-24T12:26:06.966331Z"
    },
    "papermill": {
     "duration": 0.239451,
     "end_time": "2022-10-24T12:26:06.971168",
     "exception": false,
     "start_time": "2022-10-24T12:26:06.731717",
     "status": "completed"
    },
    "tags": []
   },
   "outputs": [
    {
     "name": "stdout",
     "output_type": "stream",
     "text": [
      "Recommendation\n",
      "0    298.051095\n",
      "1    302.117073\n",
      "Name: Spring, dtype: float64\n"
     ]
    },
    {
     "data": {
      "image/png": "[encoded data removed]",
      "text/plain": [
       "<Figure size 432x288 with 1 Axes>"
      ]
     },
     "metadata": {
      "needs_background": "light"
     },
     "output_type": "display_data"
    }
   ],
   "source": [
    "print(data0.groupby('Recommendation')['Spring'].mean())\n",
    "sns.boxplot(data=data0, x=\"Recommendation\",y=\"Spring\")\n",
    "plt.show()"
   ]
  },
  {
   "cell_type": "code",
   "execution_count": 53,
   "id": "32253ee2",
   "metadata": {
    "execution": {
     "iopub.execute_input": "2022-10-24T12:26:07.025701Z",
     "iopub.status.busy": "2022-10-24T12:26:07.025246Z",
     "iopub.status.idle": "2022-10-24T12:26:07.230879Z",
     "shell.execute_reply": "2022-10-24T12:26:07.229115Z"
    },
    "papermill": {
     "duration": 0.236449,
     "end_time": "2022-10-24T12:26:07.233611",
     "exception": false,
     "start_time": "2022-10-24T12:26:06.997162",
     "status": "completed"
    },
    "tags": []
   },
   "outputs": [
    {
     "name": "stdout",
     "output_type": "stream",
     "text": [
      "Recommendation\n",
      "0    2840.193431\n",
      "1    2834.137931\n",
      "Name: Autumn, dtype: float64\n"
     ]
    },
    {
     "data": {
      "image/png": "[encoded data removed]",
      "text/plain": [
       "<Figure size 432x288 with 1 Axes>"
      ]
     },
     "metadata": {
      "needs_background": "light"
     },
     "output_type": "display_data"
    }
   ],
   "source": [
    "print(data0.groupby('Recommendation')['Autumn'].mean())\n",
    "sns.boxplot(data=data0, x=\"Recommendation\",y=\"Autumn\")\n",
    "plt.show()"
   ]
  },
  {
   "cell_type": "code",
   "execution_count": 54,
   "id": "d3d5ea42",
   "metadata": {
    "execution": {
     "iopub.execute_input": "2022-10-24T12:26:07.287497Z",
     "iopub.status.busy": "2022-10-24T12:26:07.287037Z",
     "iopub.status.idle": "2022-10-24T12:26:07.494495Z",
     "shell.execute_reply": "2022-10-24T12:26:07.493101Z"
    },
    "papermill": {
     "duration": 0.237747,
     "end_time": "2022-10-24T12:26:07.497264",
     "exception": false,
     "start_time": "2022-10-24T12:26:07.259517",
     "status": "completed"
    },
    "tags": []
   },
   "outputs": [
    {
     "name": "stdout",
     "output_type": "stream",
     "text": [
      "Recommendation\n",
      "0    1430.149635\n",
      "1    1463.639024\n",
      "Name: Summer, dtype: float64\n"
     ]
    },
    {
     "data": {
      "image/png": "[encoded data removed]",
      "text/plain": [
       "<Figure size 432x288 with 1 Axes>"
      ]
     },
     "metadata": {
      "needs_background": "light"
     },
     "output_type": "display_data"
    }
   ],
   "source": [
    "print(data0.groupby('Recommendation')['Summer'].mean())\n",
    "sns.boxplot(data=data0, x=\"Recommendation\",y=\"Summer\")\n",
    "plt.show()"
   ]
  },
  {
   "cell_type": "code",
   "execution_count": 55,
   "id": "3fb904eb",
   "metadata": {
    "execution": {
     "iopub.execute_input": "2022-10-24T12:26:07.551421Z",
     "iopub.status.busy": "2022-10-24T12:26:07.550846Z",
     "iopub.status.idle": "2022-10-24T12:26:07.756816Z",
     "shell.execute_reply": "2022-10-24T12:26:07.754954Z"
    },
    "papermill": {
     "duration": 0.236029,
     "end_time": "2022-10-24T12:26:07.759453",
     "exception": false,
     "start_time": "2022-10-24T12:26:07.523424",
     "status": "completed"
    },
    "tags": []
   },
   "outputs": [
    {
     "name": "stdout",
     "output_type": "stream",
     "text": [
      "Recommendation\n",
      "0    985.660584\n",
      "1    997.887255\n",
      "Name: Winter, dtype: float64\n"
     ]
    },
    {
     "data": {
      "image/png": "[encoded data removed]",
      "text/plain": [
       "<Figure size 432x288 with 1 Axes>"
      ]
     },
     "metadata": {
      "needs_background": "light"
     },
     "output_type": "display_data"
    }
   ],
   "source": [
    "print(data0.groupby('Recommendation')['Winter'].mean())\n",
    "sns.boxplot(data=data0, x=\"Recommendation\",y=\"Winter\")\n",
    "plt.show()"
   ]
  },
  {
   "cell_type": "code",
   "execution_count": 56,
   "id": "6fbfed73",
   "metadata": {
    "execution": {
     "iopub.execute_input": "2022-10-24T12:26:07.813747Z",
     "iopub.status.busy": "2022-10-24T12:26:07.813326Z",
     "iopub.status.idle": "2022-10-24T12:26:07.830434Z",
     "shell.execute_reply": "2022-10-24T12:26:07.829062Z"
    },
    "papermill": {
     "duration": 0.047255,
     "end_time": "2022-10-24T12:26:07.833028",
     "exception": false,
     "start_time": "2022-10-24T12:26:07.785773",
     "status": "completed"
    },
    "tags": []
   },
   "outputs": [
    {
     "data": {
      "text/html": [
       "<div>\n",
       "<style scoped>\n",
       "    .dataframe tbody tr th:only-of-type {\n",
       "        vertical-align: middle;\n",
       "    }\n",
       "\n",
       "    .dataframe tbody tr th {\n",
       "        vertical-align: top;\n",
       "    }\n",
       "\n",
       "    .dataframe thead th {\n",
       "        text-align: right;\n",
       "    }\n",
       "</style>\n",
       "<table border=\"1\" class=\"dataframe\">\n",
       "  <thead>\n",
       "    <tr style=\"text-align: right;\">\n",
       "      <th></th>\n",
       "      <th>Winter</th>\n",
       "      <th>Summer</th>\n",
       "      <th>Autumn</th>\n",
       "      <th>Spring</th>\n",
       "    </tr>\n",
       "    <tr>\n",
       "      <th>Recommendation</th>\n",
       "      <th></th>\n",
       "      <th></th>\n",
       "      <th></th>\n",
       "      <th></th>\n",
       "    </tr>\n",
       "  </thead>\n",
       "  <tbody>\n",
       "    <tr>\n",
       "      <th>0</th>\n",
       "      <td>985.660584</td>\n",
       "      <td>1430.149635</td>\n",
       "      <td>2840.193431</td>\n",
       "      <td>298.051095</td>\n",
       "    </tr>\n",
       "    <tr>\n",
       "      <th>1</th>\n",
       "      <td>997.887255</td>\n",
       "      <td>1463.639024</td>\n",
       "      <td>2834.137931</td>\n",
       "      <td>302.117073</td>\n",
       "    </tr>\n",
       "  </tbody>\n",
       "</table>\n",
       "</div>"
      ],
      "text/plain": [
       "                    Winter       Summer       Autumn      Spring\n",
       "Recommendation                                                  \n",
       "0               985.660584  1430.149635  2840.193431  298.051095\n",
       "1               997.887255  1463.639024  2834.137931  302.117073"
      ]
     },
     "execution_count": 56,
     "metadata": {},
     "output_type": "execute_result"
    }
   ],
   "source": [
    "res = data0.groupby('Recommendation')[['Winter','Summer','Autumn','Spring']].mean()\n",
    "res"
   ]
  },
  {
   "cell_type": "code",
   "execution_count": 57,
   "id": "7c5209fd",
   "metadata": {
    "execution": {
     "iopub.execute_input": "2022-10-24T12:26:07.943241Z",
     "iopub.status.busy": "2022-10-24T12:26:07.942496Z",
     "iopub.status.idle": "2022-10-24T12:26:07.951348Z",
     "shell.execute_reply": "2022-10-24T12:26:07.950376Z"
    },
    "papermill": {
     "duration": 0.039211,
     "end_time": "2022-10-24T12:26:07.953616",
     "exception": false,
     "start_time": "2022-10-24T12:26:07.914405",
     "status": "completed"
    },
    "tags": []
   },
   "outputs": [
    {
     "data": {
      "text/plain": [
       "Size\n",
       "Extra Large     4\n",
       "Free           76\n",
       "Large          36\n",
       "Medium         76\n",
       "Small          13\n",
       "Name: Recommendation, dtype: int64"
      ]
     },
     "execution_count": 57,
     "metadata": {},
     "output_type": "execute_result"
    }
   ],
   "source": [
    "data0.groupby('Size')['Recommendation'].sum()"
   ]
  },
  {
   "cell_type": "code",
   "execution_count": 58,
   "id": "f5468960",
   "metadata": {
    "execution": {
     "iopub.execute_input": "2022-10-24T12:26:08.010307Z",
     "iopub.status.busy": "2022-10-24T12:26:08.009620Z",
     "iopub.status.idle": "2022-10-24T12:26:08.200002Z",
     "shell.execute_reply": "2022-10-24T12:26:08.198980Z"
    },
    "papermill": {
     "duration": 0.221926,
     "end_time": "2022-10-24T12:26:08.202920",
     "exception": false,
     "start_time": "2022-10-24T12:26:07.980994",
     "status": "completed"
    },
    "tags": []
   },
   "outputs": [
    {
     "data": {
      "image/png": "[encoded data removed]",
      "text/plain": [
       "<Figure size 432x288 with 1 Axes>"
      ]
     },
     "metadata": {
      "needs_background": "light"
     },
     "output_type": "display_data"
    }
   ],
   "source": [
    "data0.groupby(['Size'])['Recommendation'].mean().plot.bar()\n",
    "plt.show()"
   ]
  },
  {
   "cell_type": "code",
   "execution_count": 59,
   "id": "64c9856a",
   "metadata": {
    "execution": {
     "iopub.execute_input": "2022-10-24T12:26:08.322048Z",
     "iopub.status.busy": "2022-10-24T12:26:08.321615Z",
     "iopub.status.idle": "2022-10-24T12:26:08.756012Z",
     "shell.execute_reply": "2022-10-24T12:26:08.754860Z"
    },
    "papermill": {
     "duration": 0.468731,
     "end_time": "2022-10-24T12:26:08.759106",
     "exception": false,
     "start_time": "2022-10-24T12:26:08.290375",
     "status": "completed"
    },
    "tags": []
   },
   "outputs": [
    {
     "data": {
      "image/png": "[encoded data removed]",
      "text/plain": [
       "<Figure size 432x288 with 2 Axes>"
      ]
     },
     "metadata": {
      "needs_background": "light"
     },
     "output_type": "display_data"
    }
   ],
   "source": [
    "res = pd.pivot_table(data=data0, index=\"Style\", columns=\"Price\", values=\"Recommendation\")\n",
    "sns.heatmap(res, cmap=\"RdYlGn\", annot=True, center=0.427)\n",
    "plt.show()"
   ]
  },
  {
   "cell_type": "code",
   "execution_count": 60,
   "id": "e8e39e71",
   "metadata": {
    "execution": {
     "iopub.execute_input": "2022-10-24T12:26:08.871167Z",
     "iopub.status.busy": "2022-10-24T12:26:08.870482Z",
     "iopub.status.idle": "2022-10-24T12:26:09.297298Z",
     "shell.execute_reply": "2022-10-24T12:26:09.295883Z"
    },
    "papermill": {
     "duration": 0.459311,
     "end_time": "2022-10-24T12:26:09.299815",
     "exception": false,
     "start_time": "2022-10-24T12:26:08.840504",
     "status": "completed"
    },
    "tags": []
   },
   "outputs": [
    {
     "data": {
      "image/png": "[encoded data removed]",
      "text/plain": [
       "<Figure size 432x288 with 2 Axes>"
      ]
     },
     "metadata": {
      "needs_background": "light"
     },
     "output_type": "display_data"
    }
   ],
   "source": [
    "res = pd.pivot_table(data=data0, index=\"Material\", columns=\"Season\", values=\"Recommendation\")\n",
    "sns.heatmap(res, cmap=\"RdYlGn\", annot=True, center=0.427)\n",
    "plt.show()"
   ]
  },
  {
   "cell_type": "code",
   "execution_count": null,
   "id": "3b93f0c0",
   "metadata": {
    "papermill": {
     "duration": 0.027964,
     "end_time": "2022-10-24T12:26:09.855247",
     "exception": false,
     "start_time": "2022-10-24T12:26:09.827283",
     "status": "completed"
    },
    "tags": []
   },
   "outputs": [],
   "source": []
  }
 ],
 "metadata": {
  "kernelspec": {
   "display_name": "Python 3 (ipykernel)",
   "language": "python",
   "name": "python3"
  },
  "language_info": {
   "codemirror_mode": {
    "name": "ipython",
    "version": 3
   },
   "file_extension": ".py",
   "mimetype": "text/x-python",
   "name": "python",
   "nbconvert_exporter": "python",
   "pygments_lexer": "ipython3",
   "version": "3.9.12"
  },
  "papermill": {
   "default_parameters": {},
   "duration": 20.081728,
   "end_time": "2022-10-24T12:26:10.707360",
   "environment_variables": {},
   "exception": null,
   "input_path": "__notebook__.ipynb",
   "output_path": "__notebook__.ipynb",
   "parameters": {},
   "start_time": "2022-10-24T12:25:50.625632",
   "version": "2.3.4"
  }
 },
 "nbformat": 4,
 "nbformat_minor": 5
}
